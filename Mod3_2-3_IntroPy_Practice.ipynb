{
  "cells": [
    {
      "metadata": {},
      "cell_type": "markdown",
      "source": "# 2-3 Intro Python Practice  \n## power iteration of sequences\n\n<font size=\"5\" color=\"#00A0B2\"  face=\"verdana\"> <B>Student will be able to</B></font>  \n- Iterate through Lists using **`for`** and **`in`**\n- Use **`for` *`count`* `in range()`** in looping operations  \n- Use list methods **`.extend()`, `+, .reverse(), .sort()`**  \n- convert between lists and strings using  **`.split()`** and **`.join()`**\n- cast strings to lists **/** direct multiple print outputs to a single line.  ** `print(\"hi\", end='')`**"
    },
    {
      "metadata": {},
      "cell_type": "markdown",
      "source": "# &nbsp;\n<font size=\"6\" color=\"#B24C00\"  face=\"verdana\"> <B>Task 1</B></font>\n##  list iteration: `for in`\n### `for item in list:`"
    },
    {
      "metadata": {
        "trusted": true
      },
      "cell_type": "code",
      "source": "# [ ] print out the \"physical states of matter\" (matter_states) in 4 sentences using list iteration\n# each sentence should be of the format: \"Solid - is state of matter #1\" \nmatter_states = ['solid', 'liquid', 'gas', 'plasma']\nnum = 0\nfor matter in matter_states:\n    num += 1\n    print(matter.title(),'- is state of matter #' + str(num))\n",
      "execution_count": null,
      "outputs": []
    },
    {
      "metadata": {
        "trusted": true
      },
      "cell_type": "code",
      "source": "# [ ] iterate the list (birds) to see any bird names start with \"c\" and remove that item from the list\n# print the birds list before and after removals\nbirds = [\"turkey\", \"hawk\", \"chicken\", \"dove\", \"crow\"]\nprint('\\'birds\\' list before removal:',birds)\nfor bird in birds:\n    if bird.startswith('c'):\n        birds.remove(bird)\nprint('\\'birds\\' list after removal:',birds)\n\n",
      "execution_count": null,
      "outputs": []
    },
    {
      "metadata": {
        "trusted": true
      },
      "cell_type": "code",
      "source": "# the team makes 1pt, 2pt or 3pt baskets\n# [ ] print the occurace of each type of basket(1pt, 2pt, 3pt) & total points using the list baskets\nbaskets = [2,2,2,1,2,1,3,3,1,2,2,2,2,1,3]\ntotal_sum = 0 #initialize variable\n\nprint('1pt basket occur',baskets.count(1),'times')\nprint('2pt basket occur',baskets.count(1),'times')\nprint('3pt basket occur',baskets.count(1),'times')\n\nfor score in baskets: # use for/in iteration to count the sum of scores\n    total_sum += score\nprint('\\nTotal points:')\nprint('+'.join(str(x) for x in baskets),'=',total_sum)",
      "execution_count": null,
      "outputs": []
    },
    {
      "metadata": {},
      "cell_type": "markdown",
      "source": "# &nbsp;\n<font size=\"6\" color=\"#B24C00\"  face=\"verdana\"> <B>Task 2</B></font>\n##  iteration with `range(start)` & `range(start,stop)`\n"
    },
    {
      "metadata": {
        "trusted": true
      },
      "cell_type": "code",
      "source": "# [ ] using range() print \"hello\" 4 times\nfor word in range(4):\n    print('hello')\n\n",
      "execution_count": null,
      "outputs": []
    },
    {
      "metadata": {
        "trusted": true
      },
      "cell_type": "code",
      "source": "# [ ] find spell_list length\n# [ ] use range() to iterate each half of spell_list  \n# [ ] label & print the first and second halves\nspell_list = [\"Tuesday\", \"Wednesday\", \"February\", \"November\", \"Annual\", \"Calendar\", \"Solstice\"]\nlength = len(spell_list)\nhalf = int(len(spell_list)/2)\n\nprint('Length of \\'spell_list\\' is',length)\n\nprint('\\nFirst half:')\nfor day in range(half):\n    print(spell_list[day],end = ',')\n\nprint('\\n\\nSecond half:')\nfor day in range(half,length):\n    print(spell_list[day],end = ', ')\n    ",
      "execution_count": null,
      "outputs": []
    },
    {
      "metadata": {
        "trusted": true
      },
      "cell_type": "code",
      "source": "# [ ] build a list of numbers from 20 to 29: twenties \n# append each number to twenties list using range(start,stop) iteration\n# [ ] print twenties\ntwenties = []\nfor num in range(20,30):\n    twenties.append(num)\nprint(twenties)\n",
      "execution_count": null,
      "outputs": []
    },
    {
      "metadata": {
        "trusted": true
      },
      "cell_type": "code",
      "source": "# [ ] iterate through the numbers populated in the list twenties and add each number to a variable: total\n# [ ] print total\ntotal = 0\nfor num in twenties:\n    total += num\nprint('Sum of twenties is',total)\n",
      "execution_count": null,
      "outputs": []
    },
    {
      "metadata": {
        "trusted": true
      },
      "cell_type": "code",
      "source": "# check your answer above using range(start,stop)\n# [ ] iterate each number from 20 to 29 using range()\n# [ ] add each number to a variable (total) to calculate the sum\n# should match earlier task \ntotal = 0\nfor num in range(20,30):\n    total += num\nprint('Result check:\\n')\nprint('+'.join(str(x) for x in range(20,30)),'=',total)",
      "execution_count": null,
      "outputs": []
    },
    {
      "metadata": {},
      "cell_type": "markdown",
      "source": "# &nbsp;\n<font size=\"6\" color=\"#B24C00\"  face=\"verdana\"> <B>Task 3</B></font>\n##  iteration with `range(start:stop:skip)`\n"
    },
    {
      "metadata": {
        "trusted": true
      },
      "cell_type": "code",
      "source": "# [ ] create a list of odd numbers (odd_nums) from 1 to 25 using range(start,stop,skip)\n# [ ] print odd_nums\n# hint: odd numbers are 2 digits apart\nodd_nums = []\nfor num in range(1,26,2):\n    odd_nums.append(num)\nprint(odd_nums)\n",
      "execution_count": null,
      "outputs": []
    },
    {
      "metadata": {
        "trusted": true
      },
      "cell_type": "code",
      "source": "# [ ] create a Decending list of odd numbers (odd_nums) from 25 to 1 using range(start,stop,skip)\n# [ ] print odd_nums,  output should resemble [25, 23, ...]\nodd_nums = [] # initialize an empty list\nfor num in range(1,26,2): # use for/in to iterate through each number considering start,stop and step\n    odd_nums.append(num)\nodd_nums.sort() # ensuring the list is is sorted in ascending order\nodd_nums.reverse() # reversing list in descinding order\nprint(odd_nums)\n\n",
      "execution_count": null,
      "outputs": []
    },
    {
      "metadata": {
        "trusted": true
      },
      "cell_type": "code",
      "source": "# the list, elements, contains the names of the first 20 elements in atomic number order\n# [ ] print the even number elements \"2 - Helium, 4 - Beryllium,..\" in the list with the atomic number\nelements = ['Hydrogen', 'Helium', 'Lithium', 'Beryllium', 'Boron', 'Carbon', 'Nitrogen', 'Oxygen', 'Fluorine', \\\n 'Neon', 'Sodium', 'Magnesium', 'Aluminum', 'Silicon', 'Phosphorus', 'Sulfur', 'Chlorine', 'Argon', \\\n 'Potassium', 'Calcium']\neven_num = 0\nlength = len(elements)\nfor element in range(1,length,2):\n    even_num += 2\n    print(even_num,'-',elements[element],end = ', ')",
      "execution_count": null,
      "outputs": []
    },
    {
      "metadata": {
        "trusted": true
      },
      "cell_type": "code",
      "source": "# [ ] the list, elements_40, contains the names of the first 40 elements in atomic number order\n# [ ] print the odd number elements \"1 - Hydrogen, 3 - Lithium,..\" in the list with the atomic number elements_40\nelements_40 = ['Hydrogen', \\\n 'Helium', 'Lithium', 'Beryllium', 'Boron', 'Carbon', 'Nitrogen', 'Oxygen', 'Fluorine', \\\n 'Neon', 'Sodium', 'Magnesium', 'Aluminum', 'Silicon', 'Phosphorus', 'Sulfur', 'Chlorine', \\\n 'Argon', 'Potassium', 'Calcium', 'Scandium', 'Titanium', 'Vanadium', 'Chromium', 'Manganese', \\\n 'Iron', 'Cobalt', 'Nickel', 'Copper', 'Zinc', 'Gallium', 'Germanium', 'Arsenic', 'Selenium', \\\n 'Bromine', 'Krypton', 'Rubidium', 'Strontium', 'Yttrium', 'Zirconium']\nodd_num = 1\nlength = len(elements_40)\nfor element in range(0,length,2):\n    print(odd_num,'-',elements_40[element],end = ', ')\n    odd_num += 2\n",
      "execution_count": null,
      "outputs": []
    },
    {
      "metadata": {
        "trusted": true
      },
      "cell_type": "code",
      "source": "",
      "execution_count": null,
      "outputs": []
    },
    {
      "metadata": {},
      "cell_type": "markdown",
      "source": "# &nbsp;\n<font size=\"6\" color=\"#B24C00\"  face=\"verdana\"> <B>Task 4</B></font>\n## combine lists with `+` and `.extend()`"
    },
    {
      "metadata": {
        "trusted": true
      },
      "cell_type": "code",
      "source": "# [ ] print the combined lists (numbers_1 & numbers_2) using \"+\" operator\nnumbers_1 = [20, 21, 22, 23, 24, 25, 26, 27, 28, 29]\n\n# pythonic casting of a range into a list\nnumbers_2 = list(range(30,50,2))\n\nprint(\"numbers_1:\",numbers_1)\nprint(\"\\nnumbers_2\",numbers_2)\n\ncombined = numbers_1 + numbers_2\n\nprint('\\ncombined lists \\'numbers_1\\' and \\'numbers_2\\'',combined)",
      "execution_count": null,
      "outputs": []
    },
    {
      "metadata": {
        "trusted": true
      },
      "cell_type": "code",
      "source": "# [ ] print the combined element lists (first_row & second_row) using \".extend()\" method\nfirst_row = ['Hydrogen', 'Helium']\nsecond_row = ['Lithium', 'Beryllium', 'Boron', 'Carbon', 'Nitrogen', 'Oxygen', 'Fluorine', 'Neon']\n\nprint(\"1st Row:\", first_row)\nprint(\"\\n2nd Row:\", second_row)\nfirst_row.extend(second_row)\nprint('\\n\\'1st Row\\' and \\'2nd Row\\' combined:',first_row)",
      "execution_count": null,
      "outputs": []
    },
    {
      "metadata": {},
      "cell_type": "markdown",
      "source": "## Project: Combine 3 element rows\nChoose to use **\"+\" or \".extend()\" **to build output similar to   \n\n```\nThe 1st three rows of the Period Table of Elements contain:\n['Hydrogen', 'Helium', 'Lithium', 'Beryllium', 'Boron', 'Carbon', 'Nitrogen', 'Oxygen', 'Fluorine', 'Neon', 'Sodium', 'Magnesium', 'Aluminum', 'Silicon', 'Phosphorus', 'Sulfur', 'Chlorine', 'Argon']\n\nThe row breakdown is\nRow 1: Hydrogen, Helium\nRow 2: Lithium, Beryllium, Boron, Carbon, Nitrogen, Oxygen, Fluorine, Neon\nRow 3: Sodium, Magnesium, Aluminum, Silicon, Phosphorus, Sulfur, Chlorine, Argon\n```"
    },
    {
      "metadata": {
        "trusted": true
      },
      "cell_type": "code",
      "source": "# [ ] create the program: combined 3 element rows \n\nelem_1 = ['Hydrogen', 'Helium'] \nelem_2 = ['Lithium', 'Beryllium', 'Boron', 'Carbon', 'Nitrogen', 'Oxygen', 'Fluorine', 'Neon']\nelem_3 = ['Sodium', 'Magnesium', 'Aluminum', 'Silicon', 'Phosphorus', 'Sulfur', 'Chlorine', 'Argon']\n\nprint('The 1st three rows of the Period Table of Elements contain:')\nprint(elem_1 + elem_2 + elem_3)\nprint('\\nThe row breakdown is')\nprint('Row 1:',', '.join(elem_1))\nprint('Row 2:',', '.join(elem_2))\nprint('Row 3:',', '.join(elem_3))\n",
      "execution_count": null,
      "outputs": []
    },
    {
      "metadata": {
        "trusted": true
      },
      "cell_type": "code",
      "source": "# [ ] .extend() jack_jill with \"next_line\" string - print the result\njack_jill = ['Jack', 'and', 'Jill', 'went', 'up', 'the', 'hill']\nnext_line = ['To', 'fetch', 'a', 'pail', 'of', 'water']\n\njack_jill.extend(next_line)\n\nprint(' '.join(jack_jill))",
      "execution_count": null,
      "outputs": []
    },
    {
      "metadata": {},
      "cell_type": "markdown",
      "source": "# &nbsp;\n<font size=\"6\" color=\"#B24C00\"  face=\"verdana\"> <B>Task 5</B></font>\n## .reverse() : reverse a list in place"
    },
    {
      "metadata": {
        "trusted": true
      },
      "cell_type": "code",
      "source": "# [ ] use .reverse() to print elements starting with \"Calcium\", \"Chlorine\",... in reverse order\nelements = ['Hydrogen', 'Helium', 'Lithium', 'Beryllium', 'Boron', 'Carbon', 'Nitrogen', 'Oxygen', 'Fluorine', \\\n 'Neon', 'Sodium', 'Magnesium', 'Aluminum', 'Silicon', 'Phosphorus', 'Sulfur', 'Chlorine', 'Argon', \\\n 'Potassium', 'Calcium']\n\n",
      "execution_count": null,
      "outputs": []
    },
    {
      "metadata": {
        "trusted": true
      },
      "cell_type": "code",
      "source": "# [ ] reverse order of the list... Then print only words that are 8 characters or longer from the now reversed order\nspell_list = [\"Tuesday\", \"Wednesday\", \"February\", \"November\", \"Annual\", \"Calendar\", \"Solstice\"]\n\n\n",
      "execution_count": null,
      "outputs": []
    },
    {
      "metadata": {},
      "cell_type": "markdown",
      "source": "# &nbsp;\n<font size=\"6\" color=\"#B24C00\"  face=\"verdana\"> <B>Task 6</B></font>\n## .sort() and sorted()"
    },
    {
      "metadata": {
        "trusted": true
      },
      "cell_type": "code",
      "source": "# [ ] sort the list element, so names are in alphabetical order and print elements\nelements = ['Hydrogen', 'Helium', 'Lithium', 'Beryllium', 'Boron', 'Carbon', 'Nitrogen', 'Oxygen', 'Fluorine', \\\n 'Neon', 'Sodium', 'Magnesium', 'Aluminum', 'Silicon', 'Phosphorus', 'Sulfur', 'Chlorine', 'Argon', \\\n 'Potassium', 'Calcium']\n\nelements.sort()\nprint('ELements are in alphabetical order now:','\\n',elements)",
      "execution_count": null,
      "outputs": []
    },
    {
      "metadata": {
        "trusted": true
      },
      "cell_type": "code",
      "source": "# [ ] print the list, numbers, sorted and then below print the original numbers list \nnumbers = [2,2,2,1,2,1,3,3,1,2,2,2,2,1,3]\nprint('Original numbers:',numbers)\n\nnumbers.sort()\nprint('Sorted numbers:',numbers)\n",
      "execution_count": null,
      "outputs": []
    },
    {
      "metadata": {},
      "cell_type": "markdown",
      "source": "# &nbsp;\n<font size=\"6\" color=\"#B24C00\"  face=\"verdana\"> <B>Task 7</B></font>\n## Converting a string to a list with `.split()`"
    },
    {
      "metadata": {
        "trusted": true
      },
      "cell_type": "code",
      "source": "# [ ] split the string, daily_fact, into a list of word strings: fact_words\n# [ ] print each string in fact_words in upper case on its own line\ndaily_fact = \"Did you know that there are 1.4 billion students in the world?\"\nfact_words = daily_fact.split()\nprint('Type of a string after applying \\'split()\\' method:',type(fact_words),'\\n')\nfor word in fact_words:\n    print(word.upper())\n",
      "execution_count": null,
      "outputs": []
    },
    {
      "metadata": {
        "trusted": true
      },
      "cell_type": "code",
      "source": "# [ ] convert the string, code_tip, into a list made from splitting on the letter \"o\"\ncode_tip = \"Code everyday and always save your work!\"\ncode_list = code_tip.split('o')\nprint(code_list)\n\n",
      "execution_count": null,
      "outputs": []
    },
    {
      "metadata": {
        "trusted": true
      },
      "cell_type": "code",
      "source": "# [ ] split poem on \"b\" to create a list: poem_words\n# [ ] print poem_words by iterating the list\npoem = \"The bright brain, has bran!\"\npoem_words = poem.split('b')\nfor word in poem_words:\n    print(word)",
      "execution_count": null,
      "outputs": []
    },
    {
      "metadata": {},
      "cell_type": "markdown",
      "source": "# &nbsp;\n<font size=\"6\" color=\"#B24C00\"  face=\"verdana\"> <B>Task 8</B></font>\n## `.join()`\n### build a string from a list"
    },
    {
      "metadata": {
        "trusted": true
      },
      "cell_type": "code",
      "source": "# [ ] print a comma separated string output from the list of Halogen elements using \".join()\"\nhalogens = ['Chlorine', 'Florine', 'Bromine', 'Iodine']\nprint(', '.join(halogens))\n",
      "execution_count": null,
      "outputs": []
    },
    {
      "metadata": {
        "trusted": true
      },
      "cell_type": "code",
      "source": "# [ ] split the sentence, code_tip, into a words list\n# [ ] print the joined words in the list with no spaces in-between\n# [ ] Bonus: capitalize each word in the list before .join()\ncode_tip =\"Read code aloud or explain the code step by step to a peer\"\nempty_list = []\nwords_list = code_tip.split()\nfor word in words_list:\n    empty_list.append(word.capitalize())\nprint(''.join(empty_list))",
      "execution_count": null,
      "outputs": []
    },
    {
      "metadata": {},
      "cell_type": "markdown",
      "source": "# &nbsp;\n<font size=\"6\" color=\"#B24C00\"  face=\"verdana\"> <B>Task 9</B></font>  \n## `list(string)` & `print(\"hello\",end=' ')`\n\n- **Cast a string to a list** \n- **print to the same line**   "
    },
    {
      "metadata": {
        "trusted": true
      },
      "cell_type": "code",
      "source": "# [ ] cast the long_word into individual letters list \n# [ ] print each letter on a line\nlong_word = 'decelerating'\nlong_list = list(long_word)\nfor letter in long_list:\n    print(letter)\n",
      "execution_count": 1,
      "outputs": [
        {
          "output_type": "stream",
          "text": "d\ne\nc\ne\nl\ne\nr\na\nt\ni\nn\ng\n",
          "name": "stdout"
        }
      ]
    },
    {
      "metadata": {
        "trusted": true
      },
      "cell_type": "code",
      "source": "# [ ] use use end= in print to output each string in questions with a \"?\" and on new lines\nquestions = [\"What's the closest planet to the Sun\", \"How deep do Dolphins swim\", \"What time is it\"]\nfor question in questions:\n    print(question,end='?\\n')\n\n\n\n",
      "execution_count": 3,
      "outputs": [
        {
          "output_type": "stream",
          "text": "What's the closest planet to the Sun?\nHow deep do Dolphins swim?\nWhat time is it?\n",
          "name": "stdout"
        }
      ]
    },
    {
      "metadata": {
        "trusted": true
      },
      "cell_type": "code",
      "source": "# [ ] print each item in foot bones \n#    - capitalized, both words if two word name\n#    - separated by a comma and space\n#    - and keeping on a single print line\nfoot_bones = [\"calcaneus\", \"talus\", \"cuboid\", \"navicular\", \"lateral cuneiform\", \n            \"intermediate cuneiform\", \"medial cuneiform\"]\n\nfor word in foot_bones:\n    print(word.title(),end=', ')",
      "execution_count": 2,
      "outputs": [
        {
          "output_type": "stream",
          "text": "Calcaneus, Talus, Cuboid, Navicular, Lateral Cuneiform, Intermediate Cuneiform, Medial Cuneiform, ",
          "name": "stdout"
        }
      ]
    },
    {
      "metadata": {},
      "cell_type": "markdown",
      "source": "[Terms of use](http://go.microsoft.com/fwlink/?LinkID=206977) &nbsp; [Privacy & cookies](https://go.microsoft.com/fwlink/?LinkId=521839) &nbsp; © 2017 Microsoft"
    }
  ],
  "metadata": {
    "anaconda-cloud": {},
    "kernelspec": {
      "name": "python3",
      "display_name": "Python 3",
      "language": "python"
    },
    "language_info": {
      "mimetype": "text/x-python",
      "nbconvert_exporter": "python",
      "name": "python",
      "file_extension": ".py",
      "version": "3.5.4",
      "pygments_lexer": "ipython3",
      "codemirror_mode": {
        "version": 3,
        "name": "ipython"
      }
    }
  },
  "nbformat": 4,
  "nbformat_minor": 1
}