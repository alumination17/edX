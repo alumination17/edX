{
  "cells": [
    {
      "metadata": {
        "trusted": true
      },
      "cell_type": "code",
      "source": "# [ ] get input for variables: owner, num_people, training_time  - use descriptive prompt text\nowner = input(\"Enter name of the contact person for training group: \")\nnum_people = input(\"Enter the total number of people attending the course: \") \ntraining_time = input(\"Enter the training time selected (HH:MM AM/PM): \") \n# [ ] create a integer variable min_early and \"hard code\" the integer value (e.g. - 5, 10 or 15)\nmin_early = input(\"Please enter a number of minutes for class attendees to have in advance before the class starts: \")\n",
      "execution_count": 1,
      "outputs": [
        {
          "output_type": "stream",
          "name": "stdout",
          "text": "Enter name of the contact person for training group: Azzaya Okhlitulang\nEnter the total number of people attending the course: 10\nEnter the training time selected (HH:MM AM/PM): 08:30 PM\nPlease enter a number of minutes for class attendees to have in advance before the class starts: 15\n"
        }
      ]
    },
    {
      "metadata": {
        "trusted": true
      },
      "cell_type": "code",
      "source": "# [ ] print reminder text using all variables & add additional strings -  use comma separated print formatting\nprint(\"Reminder: training is scheduled at\",training_time,\"for the\",owner,\"group of\",num_people,\"attendees\")\nprint(\"Please arrive in advance - at least\",min_early,\"minutes earlier for the first class\")",
      "execution_count": 2,
      "outputs": [
        {
          "output_type": "stream",
          "text": "Reminder: training is scheduled at 08:30 PM for the Azzaya Okhlitulang group of 10 attendees\nPlease arrive in advance - at least 15 minutes earlier for the first class\n",
          "name": "stdout"
        }
      ]
    },
    {
      "metadata": {
        "trusted": true
      },
      "cell_type": "code",
      "source": "",
      "execution_count": null,
      "outputs": []
    }
  ],
  "metadata": {
    "kernelspec": {
      "name": "python3",
      "display_name": "Python 3",
      "language": "python"
    },
    "language_info": {
      "mimetype": "text/x-python",
      "nbconvert_exporter": "python",
      "name": "python",
      "pygments_lexer": "ipython3",
      "version": "3.5.4",
      "file_extension": ".py",
      "codemirror_mode": {
        "version": 3,
        "name": "ipython"
      }
    }
  },
  "nbformat": 4,
  "nbformat_minor": 1
}