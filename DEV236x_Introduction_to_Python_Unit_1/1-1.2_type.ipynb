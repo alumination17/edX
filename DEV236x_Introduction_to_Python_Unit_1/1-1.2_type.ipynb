{
  "cells": [
    {
      "metadata": {
        "trusted": true
      },
      "cell_type": "code",
      "source": "# A string value is assigned to a variable\nstudent = \"Diana Kazaeva\"\nstudent",
      "execution_count": null,
      "outputs": []
    },
    {
      "metadata": {
        "trusted": true
      },
      "cell_type": "code",
      "source": "# changed to integer variable\nstudent = 123456\nstudent",
      "execution_count": null,
      "outputs": []
    },
    {
      "metadata": {
        "trusted": true
      },
      "cell_type": "code",
      "source": "# Back to string\nstudent = \"Diana-D123456\"\nstudent",
      "execution_count": 18,
      "outputs": [
        {
          "output_type": "execute_result",
          "execution_count": 18,
          "data": {
            "text/plain": "'Diana-D123456'"
          },
          "metadata": {}
        }
      ]
    },
    {
      "metadata": {
        "trusted": true
      },
      "cell_type": "code",
      "source": "# Variable string print\nprint(student)",
      "execution_count": 21,
      "outputs": [
        {
          "output_type": "stream",
          "text": "123456\n",
          "name": "stdout"
        }
      ]
    },
    {
      "metadata": {},
      "cell_type": "markdown",
      "source": "# Task 4"
    },
    {
      "metadata": {
        "trusted": true
      },
      "cell_type": "code",
      "source": "# String value to a variable\nstudent_name = \"Ivan Petrov\"\nstudent_name",
      "execution_count": 8,
      "outputs": [
        {
          "output_type": "execute_result",
          "execution_count": 8,
          "data": {
            "text/plain": "'Ivan Petrov'"
          },
          "metadata": {}
        }
      ]
    },
    {
      "metadata": {
        "trusted": true
      },
      "cell_type": "code",
      "source": "# Assigned different string value to a variable\nstudent_name = \"Petr Kozlov\"\nstudent_name",
      "execution_count": 9,
      "outputs": [
        {
          "output_type": "execute_result",
          "execution_count": 9,
          "data": {
            "text/plain": "'Petr Kozlov'"
          },
          "metadata": {}
        }
      ]
    },
    {
      "metadata": {
        "trusted": true
      },
      "cell_type": "code",
      "source": "# Assigned a third string value to a variable\nstudent_name = \"Mikhail Kozhukh\"\nstudent_name",
      "execution_count": 10,
      "outputs": [
        {
          "output_type": "execute_result",
          "execution_count": 10,
          "data": {
            "text/plain": "'Mikhail Kozhukh'"
          },
          "metadata": {}
        }
      ]
    },
    {
      "metadata": {
        "trusted": true
      },
      "cell_type": "code",
      "source": "# change variable type with reassignment\n# assigning a value to a variable called bucket\nbucket = 'Devil'\n# print the value of bucket \nbucket",
      "execution_count": null,
      "outputs": []
    },
    {
      "metadata": {
        "trusted": true
      },
      "cell_type": "code",
      "source": "# assign an Integer value (no quotes) to the variable bucket\nbucket = 455\n# print the value of bucket \nprint(bucket)",
      "execution_count": 12,
      "outputs": [
        {
          "output_type": "stream",
          "text": "455\n",
          "name": "stdout"
        }
      ]
    },
    {
      "metadata": {
        "trusted": true
      },
      "cell_type": "code",
      "source": "# print integer 123 number\nprint(123)",
      "execution_count": 13,
      "outputs": [
        {
          "output_type": "stream",
          "text": "123\n",
          "name": "stdout"
        }
      ]
    },
    {
      "metadata": {
        "trusted": true
      },
      "cell_type": "code",
      "source": "# print string 123 number\nprint('123')",
      "execution_count": 14,
      "outputs": [
        {
          "output_type": "stream",
          "text": "123\n",
          "name": "stdout"
        }
      ]
    },
    {
      "metadata": {
        "trusted": true
      },
      "cell_type": "code",
      "source": "# return a value previously assigned to a variable called bucket\nprint(bucket)",
      "execution_count": 15,
      "outputs": [
        {
          "output_type": "stream",
          "text": "455\n",
          "name": "stdout"
        }
      ]
    },
    {
      "metadata": {
        "trusted": true
      },
      "cell_type": "code",
      "source": "",
      "execution_count": null,
      "outputs": []
    }
  ],
  "metadata": {
    "kernelspec": {
      "name": "python3",
      "display_name": "Python 3",
      "language": "python"
    },
    "language_info": {
      "mimetype": "text/x-python",
      "nbconvert_exporter": "python",
      "name": "python",
      "pygments_lexer": "ipython3",
      "version": "3.5.4",
      "file_extension": ".py",
      "codemirror_mode": {
        "version": 3,
        "name": "ipython"
      }
    }
  },
  "nbformat": 4,
  "nbformat_minor": 1
}