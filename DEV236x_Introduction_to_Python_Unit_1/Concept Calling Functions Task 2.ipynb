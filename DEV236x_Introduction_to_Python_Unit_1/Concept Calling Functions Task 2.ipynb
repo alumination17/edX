{
  "cells": [
    {
      "metadata": {
        "trusted": true
      },
      "cell_type": "code",
      "source": "#[ ] define (def) a simple function called yell_it() and call the function\ndef yell_it():\n    phrase = \"itchy twitchy\"\n    print(phrase.upper() + (\"!\"))\n    \nyell_it()\n",
      "execution_count": null,
      "outputs": []
    },
    {
      "metadata": {
        "trusted": true
      },
      "cell_type": "code",
      "source": "#[ ] define (def) a simple function called yell_it() and call the function\ndef yell_it(phrase):\n    print(phrase.upper() + (\"!\"))\n    \nyell_it(\"ball on a regular\")\n",
      "execution_count": null,
      "outputs": []
    },
    {
      "metadata": {
        "trusted": true
      },
      "cell_type": "code",
      "source": "def yell_it(phrase = \"dance on a regular\"):\n    print(phrase.upper() + (\"!\"))\n    \nyell_it(\"ball on a regular\")\nyell_it()",
      "execution_count": null,
      "outputs": []
    },
    {
      "metadata": {
        "trusted": true
      },
      "cell_type": "code",
      "source": "# [ ] define yell_this() \ndef yell_this(words_to_yell):\n    print(words_to_yell)\n\n    \n# [ ] get user input in variable words_to_yell\nwords_to_yell = input(\"Please input words to yell here: \")\n\n# [ ] call yell_this function with words_to_yell as argument\nyell_this(words_to_yell)",
      "execution_count": null,
      "outputs": []
    },
    {
      "metadata": {
        "trusted": true
      },
      "cell_type": "code",
      "source": "def show_name():\n    print(\"Tobias Ledford\")\n    \n    \nshow_name()",
      "execution_count": null,
      "outputs": []
    },
    {
      "metadata": {
        "trusted": true
      },
      "cell_type": "code",
      "source": "def add_num(num_1 = 10):\n    print(num_1 + num_1)",
      "execution_count": null,
      "outputs": []
    },
    {
      "metadata": {
        "trusted": true
      },
      "cell_type": "code",
      "source": "# Message double returns the string Argument doubled\ndef msg_doubling(phrase):\n    doubling = phrase + \" \" + phrase\n    return doubling\n\n# save return value in variable\nmsg_2x = msg_doubling(\"Ballin' hard like roundabout\")\nprint(msg_2x)",
      "execution_count": null,
      "outputs": []
    },
    {
      "metadata": {
        "trusted": true
      },
      "cell_type": "code",
      "source": "# example of functions with return values used in functions\ndef msg_double(phrase):\n      double = phrase + \" \" + phrase\n      return double\n\n# prints the returned object\nprint(msg_double(\"Save Now!\"))\n\n# echo the type of the returned object\ntype(msg_double(\"Save Now!\"))",
      "execution_count": null,
      "outputs": []
    },
    {
      "metadata": {
        "trusted": true
      },
      "cell_type": "code",
      "source": "# create and call make_doctor() with full_name argument from user input - then print the return value\n# Define function make_doctor()  that takes a parameter name\n# get user input for variable full_name\n\ndef make_doctor(name):\n    full_name = input(\"Please enter your full name for making you a doctor: \")\n    return full_name\nprint(make_doctor)\ntype(full_name)\n\n# call the function using full_name as argument\nmake_doctor(full_name)\n\n# print the return value\nprint(\"Doctor\" + make_doctor(full_name))\n",
      "execution_count": null,
      "outputs": []
    },
    {
      "metadata": {
        "trusted": true
      },
      "cell_type": "code",
      "source": "# create and call make_doctor() with full_name argument from user input - then print the return value\n\ndef make_doctor():\n    name = \"Doctor\" + \" \" + full_name\n    return name\nprint make_doctor()\n\nfull_name = input(\"Please enter your full name for making you a doctor: \")\n",
      "execution_count": null,
      "outputs": []
    },
    {
      "metadata": {
        "trusted": true
      },
      "cell_type": "code",
      "source": "def make_doctor(name):\n    changed_name = \"Doctor \" + name\n    return changed_name\n\nfull_name = input(\"Please enter your full name for making you a doctor: \")\nmake_doctor(full_name)\nprint(make_doctor)",
      "execution_count": null,
      "outputs": []
    },
    {
      "metadata": {
        "trusted": true
      },
      "cell_type": "code",
      "source": "def add_num(num_1 = 10):\n    return num_1 + num_1\n\nprint(add_num(100))",
      "execution_count": 3,
      "outputs": [
        {
          "output_type": "stream",
          "text": "200\n",
          "name": "stdout"
        }
      ]
    },
    {
      "metadata": {
        "trusted": true
      },
      "cell_type": "code",
      "source": "def low_case(words_in): \n      return words_in.lower()  \nwords_lower = low_case(\"Return THIS lower\")\nprint(words_lower)",
      "execution_count": 4,
      "outputs": [
        {
          "output_type": "stream",
          "text": "return this lower\n",
          "name": "stdout"
        }
      ]
    },
    {
      "metadata": {
        "trusted": true
      },
      "cell_type": "code",
      "source": "def add_numbers(num_1, num_2 = 10):\n    return num_1 + num_2\nprint(add_numbers(100))\n",
      "execution_count": 5,
      "outputs": [
        {
          "output_type": "stream",
          "text": "110\n",
          "name": "stdout"
        }
      ]
    },
    {
      "metadata": {
        "trusted": true
      },
      "cell_type": "code",
      "source": "# create and call make_doctor() with full_name argument from user input - then print the return value\n\n# Define function make_doctor()  that takes a parameter name\n\ndef make_doctor(name):\n    changed_name = \"Doctor \" + name\n    return changed_name\n\n# get user input for variable full_name\nfull_name = input(\"Please enter your full name for making you a doctor: \")\n\n# call the function using full_name   as argument\nmake_doctor(full_name)\n\n# assign a result to the variable\ntemp = make_doctor(full_name)\n\n# print the return value\nprint(temp)",
      "execution_count": null,
      "outputs": []
    }
  ],
  "metadata": {
    "kernelspec": {
      "name": "python2",
      "display_name": "Python 2",
      "language": "python"
    },
    "language_info": {
      "mimetype": "text/x-python",
      "nbconvert_exporter": "python",
      "name": "python",
      "pygments_lexer": "ipython2",
      "version": "2.7.15",
      "file_extension": ".py",
      "codemirror_mode": {
        "version": 2,
        "name": "ipython"
      }
    }
  },
  "nbformat": 4,
  "nbformat_minor": 1
}