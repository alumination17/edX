{
  "cells": [
    {
      "metadata": {},
      "cell_type": "markdown",
      "source": "# 1-5 Intro Python Practice  \n## conditionals, type, and mathematics extended   \n&nbsp;\n<font size=\"5\" color=\"#00A0B2\"  face=\"verdana\"> <B>Student will be able to</B></font>  \n- code more than two choices using **`elif`** \n- gather numeric input using type casting  \n- perform subtraction, multiplication and division operations in code  &nbsp;  \n"
    },
    {
      "metadata": {},
      "cell_type": "markdown",
      "source": "# &nbsp;  \n<font size=\"6\" color=\"#B24C00\"  face=\"verdana\"> <B>Tasks</B></font>"
    },
    {
      "metadata": {},
      "cell_type": "markdown",
      "source": "### Rainbow colors\nask for input of a favorite rainbow color first letter: ROYGBIV  \n\nUsing `if`, `elif`, and `else`:  \n- print the color matching the letter  \n    - R = Red  \n    - O = Orange  \n    - Y = Yellow  \n    - G = Green\n    - B = Blue\n    - I = Indigo\n    - V = Violet\n    - else print \"no match\"\n"
    },
    {
      "metadata": {
        "trusted": true
      },
      "cell_type": "code",
      "source": "# [ ] complete rainbow colors\nfav_color = input('Enter first letter of your favourite color (ROYGBIV): ').upper()\ntext = 'Color matching the letter is'\nif fav_color == 'R':\n    print(text,'Red')\nelif fav_color == 'O':\n        print(text,'Orange')\nelif fav_color == 'Y':\n        print(text,'Yellow')\nelif fav_color == 'G':\n        print(text,'Green')\nelif fav_color == 'B':\n        print(text,'Blue')\nelif fav_color == 'I':\n        print(text,'Indigo')\nelif fav_color == 'V':\n        print(text,'Violet')\nelse:\n    print('no match')\n    \n\n\n\n\n\n\n\n",
      "execution_count": 1,
      "outputs": [
        {
          "output_type": "stream",
          "name": "stdout",
          "text": "Enter first letter of your favourite color (ROYGBIV): R\nColor matching the letter is Red\n"
        }
      ]
    },
    {
      "metadata": {},
      "cell_type": "markdown",
      "source": "# [ ] make the code above into a function rainbow_color() that has a string parameter, \n# get input and call the function and return the matching color as a string or \"no match\" message.\n# Call the function and print the return string.\n\n\n"
    },
    {
      "metadata": {
        "trusted": true
      },
      "cell_type": "code",
      "source": "# [ ] make the code above into a function rainbow_color() that has a string parameter, \n# get input and call the function and return the matching color as a string or \"no match\" message.\n# Call the function and print the return string.\n\ndef rainbow_color(fav_color):\n\n    if fav_color.startswith('R'):\n        return ('Red')\n    elif fav_color.startswith('O'):\n        return ('Orange')\n    elif fav_color.startswith('Y'):\n        return ('Yellow')\n    elif fav_color.startswith('G'):\n        return ('Green')\n    elif fav_color.startswith('B'):\n        return ('Blue')\n    elif fav_color.startswith('I'):\n        return ('Indigo')\n    elif fav_color.startswith('V'):\n        return ('Violet')\n    else:\n        return ('no match')\nfav_color = input('Enter first letter of your favourite color (ROYGBIV): ').upper()\n\nprint(rainbow_color(fav_color))\n",
      "execution_count": 2,
      "outputs": [
        {
          "output_type": "stream",
          "name": "stdout",
          "text": "Enter first letter of your favourite color (ROYGBIV): g\nGreen\n"
        }
      ]
    },
    {
      "metadata": {},
      "cell_type": "markdown",
      "source": "# &nbsp;  \n**Create function age_20() that adds or subtracts 20 from your age for a return value based on current age** (use `if`) \n- call the funtion with user input and then use the return value in a sentence  \nexample `age_20(25)` returns **5**: \n> \"5 years old, 20 years difference from now\""
    },
    {
      "metadata": {
        "trusted": true
      },
      "cell_type": "code",
      "source": "# [ ] complete age_20()\n\ndef age_20(current_age):\n    current_age = input('Please input your current age: ')\n    if current_age.isdigit():\n        if int(current_age) > 20:\n            print((int(current_age) - 20),'years old ,','20 years difference from now')\n            return (int(current_age) - 20)\n\n        elif int(current_age) <= 20:\n            print((int(current_age) + 20),'years old ,','20 years difference from now')\n            return (int(current_age) + 20)\n\n        else:\n            return ('Invalid value')\n    else:\n        return ('Invalid value')\n    \nage_20(25)",
      "execution_count": 3,
      "outputs": [
        {
          "output_type": "stream",
          "name": "stdout",
          "text": "Please input your current age: 46\n26 years old , 20 years difference from now\n"
        },
        {
          "output_type": "execute_result",
          "execution_count": 3,
          "data": {
            "text/plain": "26"
          },
          "metadata": {}
        }
      ]
    },
    {
      "metadata": {},
      "cell_type": "markdown",
      "source": "**create a function rainbow_or_age that takes a string argument**\n- if argument is a digit return the value of calling age_20() with the str value cast as **`int`** \n- if argument is an alphabetical character return the value of calling rainbow_color() with the str\n- if neither return FALSE"
    },
    {
      "metadata": {
        "trusted": true
      },
      "cell_type": "code",
      "source": "# [ ]  create rainbow_or_age()\n\ndef rainbow_or_age():\n    argument = input('Please enter either character or digit: ')\n    if argument.isdigit():\n        return age_20(int(argument))\n#probably need to add 'int' after return boolean word\n\n    elif argument.isalpha():\n        return rainbow_color(argument)\n    else:\n        return 'false'\n\nrainbow_or_age()\n    \n",
      "execution_count": 15,
      "outputs": [
        {
          "output_type": "stream",
          "name": "stdout",
          "text": "Please enter either character or digit: 15\nPlease input your current age: 15\n35 years old , 20 years difference from now\n"
        },
        {
          "output_type": "execute_result",
          "execution_count": 15,
          "data": {
            "text/plain": "35"
          },
          "metadata": {}
        }
      ]
    },
    {
      "metadata": {
        "trusted": true
      },
      "cell_type": "code",
      "source": "# [ ]  add 2 numbers from input using a cast to integer and display the answer \n\nnum_1 = input('Please enter first number: ')\nnum_2 = input('Please enter second number: ')\nif num_1.isdigit():\n    if num_2.isdigit():\n        print(num_1,'+',num_2,'=',int(num_1) + int(num_2))\n    else:\n        print('Invalid input')\nelse:\n    print('Invalid input')\n",
      "execution_count": 1,
      "outputs": [
        {
          "output_type": "stream",
          "name": "stdout",
          "text": "Please enter first number: 45\nPlease enter second number: 999\n45 + 999 = 1044\n"
        }
      ]
    },
    {
      "metadata": {
        "trusted": true
      },
      "cell_type": "code",
      "source": "# [ ] Multiply 2 numbers from input using cast and save the answer as part of a string \"the answer is...\"\n# display the string using print\n\nnum_1 = input('Please enter number 1 here: ')\nnum_2 = input('Please enter numner 2 here: ')\nif num_1.isdigit():\n    if num_2.isdigit():\n        result = 'The answer is', int(num_1)*int(num_2)\n    else:\n        print('Invalid input')\nelse:\n    print('Invalid input')\n    \nprint(result)",
      "execution_count": 4,
      "outputs": [
        {
          "output_type": "stream",
          "name": "stdout",
          "text": "Please enter number 1 here: 34\nPlease enter numner 2 here: 45\n('The answer is', 1530)\n"
        }
      ]
    },
    {
      "metadata": {
        "trusted": true
      },
      "cell_type": "markdown",
      "source": "#### [ ] get input of 2 numbers and display the average: (num1 + num2) divided by 2\n    \n"
    },
    {
      "metadata": {
        "trusted": true
      },
      "cell_type": "code",
      "source": "# [ ] get input of 2 numbers and display the average: (num1 + num2) divided by 2\nnum_1 = input('Enter number 1: ')\nnum_2 = input('Enter number 2: ')\nif num_1.isdigit():\n    if num_2.isdigit():\n        print('average of two entered numbers is: ',num_1,'+',num_2,'divided by 2 =',(int(num_1)+int(num_2))/2)\n    else:\n        print('Invalid input')\nelse:\n    print('Invalid input')\n",
      "execution_count": 6,
      "outputs": [
        {
          "output_type": "stream",
          "name": "stdout",
          "text": "Enter number 1: 455\nEnter number 2: 64\naverage of two entered numbers is:  455 + 64 divided by 2 = 259.5\n"
        }
      ]
    },
    {
      "metadata": {
        "trusted": true
      },
      "cell_type": "code",
      "source": "# [ ] get input of 2 numbers and subtract the largest from the smallest (use an if statement to see which is larger)\n# show the answer\nnum_1 = input('Enter 1 number here: ')\nnum_2 = input('Enter 2 number here: ')\nif num_1.isdigit():\n    if num_2.isdigit():\n        if int(num_1) >= int(num_2):\n            subtract = (int(num_2) - int(num_1))\n            print(num_2,'-',num_1,'=',subtract)\n        elif int(num_1) < int(num_2):\n            subtract = (int(num_1) - int(num_2))\n            print(num_1,'-',num_2,'=',subtract)\n        else:\n            print('Invalid input')\n    else:\n        print('Input numeric value for num_2')\nelse:\n    print('Input numeric value for num_1')\n",
      "execution_count": 13,
      "outputs": [
        {
          "output_type": "stream",
          "name": "stdout",
          "text": "Enter 1 number here: 32\nEnter 2 number here: 18\n18 - 32 = -14\n"
        }
      ]
    },
    {
      "metadata": {
        "trusted": true
      },
      "cell_type": "code",
      "source": "# [ ] Divide a larger number by a smaller number and print the integer part of the result\n# don't divide by zero! if a zero is input make the result zero\n# [ ] cast the answer to an integer to cut off the decimals and print the result\n\nnum_1 = input('Enter 1 number here: ')\nnum_2 = input('Enter 2 number here: ')\nif num_1.isdigit():\n    if num_2.isdigit():\n        if num_1 != '0':\n            if num_2 != '0':\n                if int(num_1) >= int(num_2):\n                    divide = (int(num_1) / int(num_2))\n                    print(num_1,'/',num_2,'=',divide)\n                elif int(num_1) < int(num_2):\n                    divide = (int(num_2) / int(num_1))\n                    print(num_2,'/',num_1,'=',divide)\n            else:\n                print(num_1,'/',num_2,'= 0')\n        else:\n            print(num_2,'/',num_1,'= 0')\n    else:\n        print('Invalid input: Input integer value')\nelse:\n    print('Invalid input: Input integer value')\n",
      "execution_count": 12,
      "outputs": [
        {
          "output_type": "stream",
          "name": "stdout",
          "text": "Enter 1 number here: 90\nEnter 2 number here: 845792\n845792 / 90 = 9397.68888888889\n"
        }
      ]
    },
    {
      "metadata": {
        "trusted": true
      },
      "cell_type": "code",
      "source": "",
      "execution_count": null,
      "outputs": []
    },
    {
      "metadata": {},
      "cell_type": "markdown",
      "source": "[Terms of use](http://go.microsoft.com/fwlink/?LinkID=206977) &nbsp; [Privacy & cookies](https://go.microsoft.com/fwlink/?LinkId=521839) &nbsp; © 2017 Microsoft"
    }
  ],
  "metadata": {
    "anaconda-cloud": {},
    "kernelspec": {
      "name": "python3",
      "display_name": "Python 3",
      "language": "python"
    },
    "language_info": {
      "mimetype": "text/x-python",
      "nbconvert_exporter": "python",
      "name": "python",
      "pygments_lexer": "ipython3",
      "version": "3.5.4",
      "file_extension": ".py",
      "codemirror_mode": {
        "version": 3,
        "name": "ipython"
      }
    }
  },
  "nbformat": 4,
  "nbformat_minor": 1
}