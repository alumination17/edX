{
  "cells": [
    {
      "metadata": {},
      "cell_type": "markdown",
      "source": "# 1-2 Intro Python Practice\n## Strings: input, testing, formatting\n<font size=\"5\" color=\"#00A0B2\"  face=\"verdana\"> <B>Student will be able to</B></font>\n- gather, store and use string `input()`  \n- format `print()` output  \n- test string characteristics  \n- format string output  \n- search for a string in a string  "
    },
    {
      "metadata": {},
      "cell_type": "markdown",
      "source": "## input()\ngetting input from users"
    },
    {
      "metadata": {
        "scrolled": true,
        "trusted": true
      },
      "cell_type": "code",
      "source": "# [ ] get user input for a variable named remind_me\nremind_me = input('Please tape information to remind: ')\n\n# [ ] print the value of the variable remind_me\nprint(remind_me)\n",
      "execution_count": null,
      "outputs": []
    },
    {
      "metadata": {
        "trusted": true
      },
      "cell_type": "code",
      "source": "# use string addition to print \"remember: \" before the remind_me input string\nprint('remember: ' + remind_me)\n",
      "execution_count": null,
      "outputs": []
    },
    {
      "metadata": {},
      "cell_type": "markdown",
      "source": "### Program: Meeting Details\n#### [ ] get user **input** for meeting subject and time\n`what is the meeting subject?: plan for graduation`  \n`what is the meeting time?: 3:00 PM on Monday`  \n\n#### [ ] print **output** with descriptive labels  \n`Meeting Subject: plan for graduation`  \n`Meeting Time:    3:00 PM on Monday`"
    },
    {
      "metadata": {
        "trusted": true
      },
      "cell_type": "code",
      "source": "# [ ] get user input for 2 variables: meeting_subject and meeting_time\nmeeting_subject = input('Please enter: \"RSB Knowledge Sharing\"')\nmeeting_time = input(\"Please arrange time that fits well: \")\n\n# [ ] use string addition to print meeting subject and time with labels\nprint(meeting_subject + \" meeting will take place at \" + meeting_time)\n\n\n",
      "execution_count": null,
      "outputs": []
    },
    {
      "metadata": {
        "collapsed": true
      },
      "cell_type": "markdown",
      "source": "## print() formatting \n### combining multiple strings separated by commas in the print() function"
    },
    {
      "metadata": {
        "trusted": true
      },
      "cell_type": "code",
      "source": "# [ ] print the combined strings \"Wednesday is\" and \"in the middle of the week\" \nprint(\"Wednesday is\",\"in the middle of the week\")\n",
      "execution_count": null,
      "outputs": []
    },
    {
      "metadata": {
        "trusted": true
      },
      "cell_type": "code",
      "source": "# [ ] print combined string \"Remember to\" and the string variable remind_me from input above\nprint(remind_me)\nprint(\"Remember to\",remind_me)\n",
      "execution_count": null,
      "outputs": []
    },
    {
      "metadata": {
        "trusted": true
      },
      "cell_type": "code",
      "source": "# [ ] Combine 3 variables from above with multiple strings\n\nprint(meeting_subject,\"meeting will take place at\",meeting_time,\"therefore do not forget to\",remind_me)\n",
      "execution_count": null,
      "outputs": []
    },
    {
      "metadata": {
        "collapsed": true
      },
      "cell_type": "markdown",
      "source": "### print() quotation marks"
    },
    {
      "metadata": {
        "trusted": true
      },
      "cell_type": "code",
      "source": "# [ ] print a string sentence that will display an Apostrophe (')\nprint(\"'\")\n\n",
      "execution_count": null,
      "outputs": []
    },
    {
      "metadata": {
        "trusted": true
      },
      "cell_type": "code",
      "source": "# [ ] print a string sentence that will display a quote(\") or quotes\nprint('\"\"')\n\n",
      "execution_count": null,
      "outputs": []
    },
    {
      "metadata": {
        "collapsed": true
      },
      "cell_type": "markdown",
      "source": "## Boolean string tests"
    },
    {
      "metadata": {},
      "cell_type": "markdown",
      "source": "### Vehicle tests  \n#### get user input for a variable named vehicle  \nprint the following tests results  \n- check True or False if vehicle is All alphabetical characters using .isalpha()  \n- check True or False if vehicle is only All alphabetical & numeric characters  \n- check True or False if vehicle is Capitalized (first letter only)  \n- check True or False if vehicle is All lowercase  \n- **bonus** print description for each test (e.g.- `\"All Alpha: True\"`)"
    },
    {
      "metadata": {
        "trusted": true
      },
      "cell_type": "code",
      "source": "# [ ] complete vehicle tests \n# get a user input for a variable 'vehicle'\nvehicle = input(\"Please enter a vehicle model you desire: \")\n\n# test for All Alpha\nprint(vehicle,\"is All Alpha:\",vehicle.isalpha())\n\n# test for All Alpha and Numbers\nprint(vehicle,\"is All Alpha or Numbers:\",vehicle.isalnum())\n\n# test for Starts With\nstarts_with = input(\"Please enter a letter to check if a variable starts with it: \")\nprint(vehicle,\"Starts with:\",starts_with,vehicle.startswith(starts_with))\n\n# test for UPPER\nprint(vehicle,\"is All UPPER:\",vehicle.isupper())\n\n# test for lower\nprint(vehicle,\"is All lower:\",vehicle.islower())\n\n# test for Title\nprint(vehicle,\"is Title:\",vehicle.istitle())\n",
      "execution_count": null,
      "outputs": []
    },
    {
      "metadata": {
        "trusted": true
      },
      "cell_type": "code",
      "source": "# [ ] print True or False if color starts with \"b\" \ncolor = input(\"Please enter a desired color: \").lower()\nprint(\"Color chosen is: \",color)\n\nletter = input(\"Please enter a letter to perform check for startswith: \")\nprint(\"The variable\",color,\"starts with\",letter,\":\",color.startswith(letter))",
      "execution_count": 2,
      "outputs": [
        {
          "output_type": "stream",
          "name": "stdout",
          "text": "Please enter a desired color: Blue\nColor chosen is:  blue\nPlease enter a letter to perform check for startswith: b\nThe variable blue starts with b : True\n"
        }
      ]
    },
    {
      "metadata": {
        "trusted": true
      },
      "cell_type": "code",
      "source": "",
      "execution_count": null,
      "outputs": []
    },
    {
      "metadata": {},
      "cell_type": "markdown",
      "source": "## Sting formatting"
    },
    {
      "metadata": {
        "trusted": true
      },
      "cell_type": "code",
      "source": "# [ ] print the string variable capital_this Capitalizing only the first letter\ncapitalize_this = \"the TIME is Noon.\"\nprint(capitalize_this.capitalize())\n",
      "execution_count": 4,
      "outputs": [
        {
          "output_type": "stream",
          "text": "The time is noon.\n",
          "name": "stdout"
        }
      ]
    },
    {
      "metadata": {
        "trusted": true
      },
      "cell_type": "code",
      "source": "# print the string variable swap_this in swapped case\nswap_this = \"wHO writes LIKE tHIS?\"\nprint(swap_this.swapcase())\n",
      "execution_count": 5,
      "outputs": [
        {
          "output_type": "stream",
          "text": "Who WRITES like This?\n",
          "name": "stdout"
        }
      ]
    },
    {
      "metadata": {
        "trusted": true
      },
      "cell_type": "code",
      "source": "# print the string variable whisper_this in all lowercase\nwhisper_this = \"Can you hear me?\"\nprint(whisper_this.lower())\n",
      "execution_count": 6,
      "outputs": [
        {
          "output_type": "stream",
          "text": "can you hear me?\n",
          "name": "stdout"
        }
      ]
    },
    {
      "metadata": {
        "trusted": true
      },
      "cell_type": "code",
      "source": "# print the string variable yell_this in all UPPERCASE\nyell_this = \"Can you hear me Now!?\"\nprint(yell_this.upper())\n",
      "execution_count": 7,
      "outputs": [
        {
          "output_type": "stream",
          "text": "CAN YOU HEAR ME NOW!?\n",
          "name": "stdout"
        }
      ]
    },
    {
      "metadata": {
        "trusted": true
      },
      "cell_type": "code",
      "source": "#format input using .upper(), .lower(), .swapcase, .capitalize()\nformat_input = input('enter a string to reformat: ')\n\nprint(format_input.upper())\nprint(format_input.lower())\nprint(format_input.swapcase())\nprint(format_input.capitalize())\n",
      "execution_count": 9,
      "outputs": [
        {
          "output_type": "stream",
          "name": "stdout",
          "text": "enter a string to reformat: bitcH\nBITCH\nbitch\nBITCh\nBitch\n"
        }
      ]
    },
    {
      "metadata": {},
      "cell_type": "markdown",
      "source": "### input() formatting"
    },
    {
      "metadata": {
        "trusted": true
      },
      "cell_type": "code",
      "source": "# [ ] get user input for a variable named color\ncolor = input('enter a user color: ')\n\n# [ ] modify color to be all lowercase and print\nprint(color.lower())\n",
      "execution_count": 3,
      "outputs": [
        {
          "output_type": "stream",
          "name": "stdout",
          "text": "enter a user color: cLue\nclue\n"
        }
      ]
    },
    {
      "metadata": {
        "trusted": true
      },
      "cell_type": "code",
      "source": "# [ ] get user input using variable remind_me and format to all **lowercase** and print\nremind_me = input(\"Enter a reminder: \")\nprint(remind_me.lower())\n\n# [ ] test using input with mixed upper and lower cases\n\n# test for UPPER\nprint(remind_me,\"is All UPPER:\",remind_me.isupper())\n\n# test for lower\nprint(remind_me,\"is All lower:\",remind_me.islower())",
      "execution_count": 5,
      "outputs": [
        {
          "output_type": "stream",
          "name": "stdout",
          "text": "Enter a reminder: det a Score\nDET A sCORE\n"
        }
      ]
    },
    {
      "metadata": {
        "trusted": true
      },
      "cell_type": "code",
      "source": "# [] get user input for the variable yell_this and format as a \"YELL\" to ALL CAPS\n\nyell_this = input('Please enter a user inut for a variable \"yell_this\": ')\nprint(yell_this.upper(),\"!!!\")",
      "execution_count": 2,
      "outputs": [
        {
          "output_type": "stream",
          "name": "stdout",
          "text": "Please enter a user inut for a variable \"yell_this\": yung ho\nYUNG HO !!!\n"
        }
      ]
    },
    {
      "metadata": {
        "trusted": true
      },
      "cell_type": "code",
      "source": "",
      "execution_count": null,
      "outputs": []
    },
    {
      "metadata": {},
      "cell_type": "markdown",
      "source": "## \"in\" keyword\n### boolean: short_str in long_str"
    },
    {
      "metadata": {
        "trusted": true
      },
      "cell_type": "code",
      "source": "# [ ] get user input for the name of some animals in the variable animals_input\nanimals_input = input('Enter animals` names here: ')\n\n# [ ] get a user input 'cat' for the string variable cat_variable\ncat_variable = input('Kindly ask to enter \"cat\" in the elow window to perform search: ')\n\n# [ ] print true or false if 'cat' is in the string variable animals_input\nprint('Checking if \"cat\" exists in the string variable or not:',cat_variable.lower() in animals_input.lower())\n",
      "execution_count": 5,
      "outputs": [
        {
          "output_type": "stream",
          "name": "stdout",
          "text": "Enter animals` names here: ass\nKindly ask to enter \"cat\" in the elow window to perform search: cat\nChecking if \"cat\" exists in the string variable or not: False\n"
        }
      ]
    },
    {
      "metadata": {
        "trusted": true
      },
      "cell_type": "code",
      "source": "# [ ] get user input for color\ncolor = input('Enter a user input for variable \"color\" :')\n\n# [ ] assign a new vaiable color_lowercase to eliminae case sensetiveness\ncolor_lowercase = color.lower()\n\n# [ ] assign a letter to a varible Letter_b\nletter_b = 'b'\n\n# [ ] print True or False for starts with \"b\"\nprint('Checking if \"color\" now starts with \"b\":',letter_b,color_lowercase.startswith(letter_b))\n      \n# [ ] print color variable value exactly as input \nprint(color)\n\n# [ ] assign a color with capitalized first letter to a variable  Color_title\nColor_title = color_lowercase.title()\n\n# [ ] assign a color with uppercased letters to a variable  COLOR_UPPER\nCOLOR_UPPER = color_lowercase.upper()\n\n# [ ] assign a color with swapcased letters to a variable  CoLoR_swapcase\nCoLoR_swapcase = color.swapcase()\n\n#     test with input: \"Blue\"\nprint('Checking if color variable is actually \"Blue\":',Color_title in color)\n\n#     test with input: \"BLUE\"\nprint('Checking if color variable is actually \"BLUE\":',COLOR_UPPER in color)\n\n#     test with input: \"bLUE\"\nprint('Checking if color variable is actually \"bLUE\":',CoLoR_swapcase in color)\n",
      "execution_count": 18,
      "outputs": [
        {
          "output_type": "stream",
          "name": "stdout",
          "text": "Enter a user input for variable \"color\" :Blue\nChecking if \"color\" now starts with \"b\": b True\nBlue\nChecking if color variable is actually \"Blue\": True\nChecking if color variable is actually \"Blue\": False\nChecking if color variable is actually \"Blue\": False\n"
        }
      ]
    },
    {
      "metadata": {},
      "cell_type": "markdown",
      "source": "## Program: guess what I'm reading\n### short_str in long_str\n\n1. **[ ]** get user **`input`** for a single word describing something that can be read \n save in a variable called **can_read**  \n e.g. - \"website\", \"newspaper\", \"blog\", \"textbook\"  \n &nbsp;  \n2. **[ ]** get user **`input`** for 3 things can be read  \n save in a variable called **can_read_things**  \n&nbsp;  \n\n3. **[ ]** print **`true`** if the **can_read** string is found  \n **in** the **can_read_things** string variable\n  \n*example of program input and output*  \n[![01 02 practice Allergy-input](https://iajupyterprodblobs.blob.core.windows.net/imagecontainer/guess_reading.gif) ](https://1drv.ms/i/s!Am_KPRosgtaij7A_G6RtDlWZeYA3ZA)\n"
    },
    {
      "metadata": {
        "trusted": true
      },
      "cell_type": "code",
      "source": "# project: \"guess what I'm reading\"\n\n# 1[ ] get 1 word input for can_read variable\ncan_read = input(\"Please enter 1 word of whatever could be read: \")\n\n# 2[ ] get 3 things input for can_read_things variable\ncan_read_things = input(\"Please enter 3 words of things which could be read as well: \")\n\n# 3[ ] print True if can_read is in can_read_things\nprint(can_read in can_read_things)\n\n# [] challenge: format the output to read \"item found = True\" (or false)\nprint(\"Item Found: \",can_read in can_read_things)\n\n# hint: look print formatting exercises\n\n",
      "execution_count": 19,
      "outputs": [
        {
          "output_type": "stream",
          "name": "stdout",
          "text": "Please enter 1 word of whatever could be read: book\nPlease enter 3 words of things which could be read as well: newspaper, book, magazine, paper\nTrue\nItem Found:  True\n"
        }
      ]
    },
    {
      "metadata": {},
      "cell_type": "markdown",
      "source": "## Program: Allergy Check\n\n1. **[ ]** get user **`input`** for categories of food eaten in the last 24 hours  \n save in a variable called **input_test**  \n *example input*\n [![01 02 practice Allergy-input](https://iajupyterprodblobs.blob.core.windows.net/imagecontainer/eaten_input.gif) ](https://1drv.ms/i/s!Am_KPRosgtaij65qzFD5CGvv95-ijg)\n&nbsp;  \n2. **[ ]** print **`True`** if \"dairy\" is in the **input_test** string  \n**[ ]** Test the code so far  \n&nbsp;\n3. **[ ]** modify the print statement to output similar to below  \n*example output*\n[![01 02 Allergy output](https://iajupyterprodblobs.blob.core.windows.net/imagecontainer/eaten_output.gif) ](https://1drv.ms/i/s!Am_KPRosgtaij65rET-wmlpCdMX7CQ)  \nTest the code so far trying input including the string \"dairy\" and without  \n&nbsp;  \n\n4. **[ ]** repeat the process checking the input for \"nuts\", **challenge** add \"Seafood\" and \"chocolate\"  \n**[ ]** Test your code  \n&nbsp;  \n  \n5. **[ ] challenge:** make your code work for input regardless of case, e.g. - print **`True`** for \"Nuts\", \"NuTs\", \"NUTS\" or \"nuts\"  \n"
    },
    {
      "metadata": {
        "trusted": true
      },
      "cell_type": "code",
      "source": "# Allergy check \n\n# 1[ ] get input for test\ninput_test = input(\"enter somethings eaten  during last 24 hrs:\")\n\n# assign a variable input_test_lowercase \ninput_test_lowercase = input_test.lower()\n\n# assign a variable 'dairy'\ndairy = \"dairy\"\n\n# 2/3[ ] print True if \"dairy\" is in the input or False if not\nprint(\"Dairy is among the aforementioned foods:\",dairy in input_test_lowercase)\n\n# assign a variable 'nuts'\nnuts = \"nuts\"\n\n# 4[ ] Check if \"nuts\" are in the input\nprint(\"Nuts is among the aforementioned foods:\",nuts in input_test_lowercase)\n\n# assign a variable 'seafood'\nseafood = \"seafood\"\n\n# 4+[ ] Challenge: Check if \"seafood\" is in the input\nprint(\"Seafood is among the aforementioned foods:\",seafood in input_test_lowercase)\n\n# assign a variable 'chocolate'\nchocolate = \"chocolate\"\n\n# 4+[ ] Challenge: Check if \"chocolate\" is in the input\nprint(\"Chocolate is among the aforementioned foods:\",chocolate in input_test_lowercase)\n\n# modify the print statement to output similar to below  \nprint(\"It is true that\",input_test_lowercase,\"contains\",dairy,\":\",dairy in input_test_lowercase)\nprint(\"It is true that\",input_test_lowercase,\"contains\",nuts,\":\",nuts in input_test_lowercase)\nprint(\"It is true that\",input_test_lowercase,\"contains\",seafood,\":\",seafood in input_test_lowercase)\nprint(\"It is true that\",input_test_lowercase,\"contains\",chocolate,\":\",chocolate in input_test_lowercase)",
      "execution_count": null,
      "outputs": []
    },
    {
      "metadata": {},
      "cell_type": "markdown",
      "source": "[Terms of use](http://go.microsoft.com/fwlink/?LinkID=206977) &nbsp; [Privacy & cookies](https://go.microsoft.com/fwlink/?LinkId=521839) &nbsp; © 2017 Microsoft"
    }
  ],
  "metadata": {
    "anaconda-cloud": {},
    "kernelspec": {
      "name": "python3",
      "display_name": "Python 3",
      "language": "python"
    },
    "language_info": {
      "mimetype": "text/x-python",
      "nbconvert_exporter": "python",
      "name": "python",
      "file_extension": ".py",
      "version": "3.5.4",
      "pygments_lexer": "ipython3",
      "codemirror_mode": {
        "version": 3,
        "name": "ipython"
      }
    }
  },
  "nbformat": 4,
  "nbformat_minor": 1
}