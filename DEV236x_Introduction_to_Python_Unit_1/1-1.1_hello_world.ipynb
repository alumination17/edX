{
  "cells": [
    {
      "metadata": {
        "trusted": true
      },
      "cell_type": "code",
      "source": "# This is \"Hello World!\" for Python 3\nprint(\"Hello World!\")",
      "execution_count": 10,
      "outputs": [
        {
          "output_type": "stream",
          "text": "Hello World!\n",
          "name": "stdout"
        }
      ]
    },
    {
      "metadata": {
        "trusted": true
      },
      "cell_type": "code",
      "source": "# This is example of piece of text to be shown as an example\nprint(\"Snitch, nigguh!\")",
      "execution_count": 4,
      "outputs": [
        {
          "output_type": "stream",
          "text": "Snitch, nigguh!\n",
          "name": "stdout"
        }
      ]
    }
  ],
  "metadata": {
    "kernelspec": {
      "name": "python3",
      "display_name": "Python 3",
      "language": "python"
    },
    "language_info": {
      "mimetype": "text/x-python",
      "nbconvert_exporter": "python",
      "name": "python",
      "pygments_lexer": "ipython3",
      "version": "3.5.4",
      "file_extension": ".py",
      "codemirror_mode": {
        "version": 3,
        "name": "ipython"
      }
    }
  },
  "nbformat": 4,
  "nbformat_minor": 1
}