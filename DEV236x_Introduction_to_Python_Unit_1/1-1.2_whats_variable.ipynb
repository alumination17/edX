{
  "cells": [
    {
      "metadata": {
        "trusted": true
      },
      "cell_type": "code",
      "source": "# Variable assignment\nstudent_name = 'Ilgiz Duseev'",
      "execution_count": 1,
      "outputs": []
    },
    {
      "metadata": {
        "trusted": true
      },
      "cell_type": "code",
      "source": "# Variable echo\nstudent_name",
      "execution_count": 2,
      "outputs": [
        {
          "output_type": "execute_result",
          "execution_count": 2,
          "data": {
            "text/plain": "'Ilgiz Duseev'"
          },
          "metadata": {}
        }
      ]
    },
    {
      "metadata": {
        "trusted": true
      },
      "cell_type": "code",
      "source": "# Literal string print\nprint('Ilgiz Duseev')",
      "execution_count": 3,
      "outputs": [
        {
          "output_type": "stream",
          "text": "Ilgiz Duseev\n",
          "name": "stdout"
        }
      ]
    },
    {
      "metadata": {
        "trusted": true
      },
      "cell_type": "code",
      "source": "# Variable string print\nprint(student_name)",
      "execution_count": 4,
      "outputs": [
        {
          "output_type": "stream",
          "text": "Ilgiz Duseev\n",
          "name": "stdout"
        }
      ]
    },
    {
      "metadata": {
        "trusted": true
      },
      "cell_type": "code",
      "source": "# Variable reassignment\nprint(student_name)\nstudent_name = 'Vagiz Duseev'\nprint(student_name)",
      "execution_count": 5,
      "outputs": [
        {
          "output_type": "stream",
          "text": "Ilgiz Duseev\nVagiz Duseev\n",
          "name": "stdout"
        }
      ]
    },
    {
      "metadata": {
        "trusted": true
      },
      "cell_type": "code",
      "source": "# Variable Assignment\ncurrent_msg = 'I am a string'",
      "execution_count": 6,
      "outputs": []
    },
    {
      "metadata": {
        "trusted": true
      },
      "cell_type": "code",
      "source": "current_msg",
      "execution_count": 7,
      "outputs": [
        {
          "output_type": "execute_result",
          "execution_count": 7,
          "data": {
            "text/plain": "'I am a string'"
          },
          "metadata": {}
        }
      ]
    },
    {
      "metadata": {
        "trusted": true
      },
      "cell_type": "code",
      "source": "# Literal string print\nprint('I am a string')",
      "execution_count": 8,
      "outputs": [
        {
          "output_type": "stream",
          "text": "I am a string\n",
          "name": "stdout"
        }
      ]
    },
    {
      "metadata": {
        "trusted": true
      },
      "cell_type": "code",
      "source": "# Variable string print\nprint(current_msg)",
      "execution_count": 9,
      "outputs": [
        {
          "output_type": "stream",
          "text": "I am a string\n",
          "name": "stdout"
        }
      ]
    },
    {
      "metadata": {
        "trusted": true
      },
      "cell_type": "code",
      "source": "# Variable Reassignment\nprint(current_msg)\ncurrent_msg = 'Run this cell using Ctrl+Enter'\nprint(current_msg)",
      "execution_count": 10,
      "outputs": [
        {
          "output_type": "stream",
          "text": "I am a string\nRun this cell using Ctrl+Enter\n",
          "name": "stdout"
        }
      ]
    },
    {
      "metadata": {
        "trusted": true
      },
      "cell_type": "code",
      "source": "",
      "execution_count": null,
      "outputs": []
    }
  ],
  "metadata": {
    "kernelspec": {
      "name": "python3",
      "display_name": "Python 3",
      "language": "python"
    },
    "language_info": {
      "mimetype": "text/x-python",
      "nbconvert_exporter": "python",
      "name": "python",
      "file_extension": ".py",
      "version": "3.5.4",
      "pygments_lexer": "ipython3",
      "codemirror_mode": {
        "version": 3,
        "name": "ipython"
      }
    }
  },
  "nbformat": 4,
  "nbformat_minor": 1
}