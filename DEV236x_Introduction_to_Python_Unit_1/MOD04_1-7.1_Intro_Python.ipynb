{
  "cells": [
    {
      "metadata": {},
      "cell_type": "markdown",
      "source": "# 1-7.1 Intro Python\n## `while()` loops & increments\n- **while `True`  or forever loops**\n- **incrementing in loops**\n- Boolean operators in while loops\n\n\n-----  \n\n><font size=\"5\" color=\"#00A0B2\"  face=\"verdana\"> <B>Student will be able to</B></font>\n- **create forever loops using `while` and `break`**\n- **use incrementing variables in a while loop**\n- control while loops using Boolean operators"
    },
    {
      "metadata": {},
      "cell_type": "markdown",
      "source": "# &nbsp;\n<font size=\"6\" color=\"#00A0B2\"  face=\"verdana\"> <B>Concepts</B></font>\n## `while True:`\n# Video: Unit1_Section7.1-while-forever.mp4\n**`while True:`** is known as the **forever loop** because it ...loops forever  \n\nUsing the **`while True:`** statement results in a loop that continues to run forever   \n...or, until the loop is interrupted, such as with a **`break`** statement  \n\n## `break`\n### in a `while` loop, causes code flow to exit the loop  \na **conditional** can implement **`break`** to exit a **`while True`** loop  "
    },
    {
      "metadata": {},
      "cell_type": "markdown",
      "source": "# &nbsp;\n<font size=\"6\" color=\"#00A0B2\"  face=\"verdana\"> <B>Examples</B></font>\n## `while True` loops forever unless a `break` statement is used  "
    },
    {
      "metadata": {
        "trusted": true
      },
      "cell_type": "code",
      "source": "# Review and run code\n# this example never loops because the break has no conditions\nwhile True:\n    print('write forever, unless there is a \"break\"')\n    break",
      "execution_count": null,
      "outputs": []
    },
    {
      "metadata": {
        "trusted": true
      },
      "cell_type": "code",
      "source": "# [ ] review the NUMBER GUESS code then run - Q. what cause the break statement to run?\nnumber_guess = \"0\"\nsecret_number = \"5\"\n\nwhile True:\n    number_guess = input(\"guess the number 1 to 5: \")\n    if number_guess == secret_number:\n        print(\"Yes\", number_guess,\"is correct!\\n\")\n        break\n    else:\n        print(number_guess,\"is incorrect\\n\")",
      "execution_count": null,
      "outputs": []
    },
    {
      "metadata": {
        "trusted": true
      },
      "cell_type": "code",
      "source": "# [ ] review WHAT TO WEAR code then run testing different inputs\nwhile True:\n    weather = input(\"Enter weather (sunny, rainy, snowy, or quit): \") \n    print()\n\n    if weather.lower() == \"sunny\":\n        print(\"Wear a t-shirt and sunscreen\")\n        break\n    elif weather.lower() == \"rainy\":\n        print(\"Bring an umbrella and boots\")\n        break\n    elif weather.lower() == \"snowy\":\n        print(\"Wear a warm coat and hat\")\n        break\n    elif weather.lower().startswith(\"q\"):\n        print('\"quit\" detected, exiting')\n        break\n    else:\n        print(\"Sorry, not sure what to suggest for\", weather +\"\\n\")",
      "execution_count": null,
      "outputs": []
    },
    {
      "metadata": {},
      "cell_type": "markdown",
      "source": "# &nbsp;\n<font size=\"6\" color=\"#B24C00\"  face=\"verdana\"> <B>Task 1</B></font>\n## `while True` \n### [ ] Program: Get a name forever ...or until done\n- create variable, familar_name, and assign it an empty string (**`\"\"`**)\n- use **`while True:`**\n- ask for user input for familar_name (common name friends/family use) \n- keep asking until given a non-blank/non-space alphabetical name is received (Hint: Boolean string test)\n- break loop and print a greeting using familar_name"
    },
    {
      "metadata": {
        "trusted": true
      },
      "cell_type": "code",
      "source": "# [ ] create Get Name program\nfamiliar_name = \" \"\nwhile True:\n    familiar_name = input('Please input a familiar name (name of friend,or family member): ')\n    if familiar_name.isalpha():\n        print('Greetings, ',familiar_name.title(),'!\\n')\n        break\n    else:\n        print('Incorrect input: use non-blank non-space alphabetical name!\\n')\n\n",
      "execution_count": 2,
      "outputs": [
        {
          "output_type": "stream",
          "name": "stdout",
          "text": "Please input a familiar name (name of friend,or family member): Baller Martin\nIncorrect input: use non-blank non-space alphabetical name!\n\nPlease input a familiar name (name of friend,or family member): 8877\nIncorrect input: use non-blank non-space alphabetical name!\n\nPlease input a familiar name (name of friend,or family member): Ilgiz\nGreetings,  Ilgiz !\n\n"
        }
      ]
    },
    {
      "metadata": {
        "collapsed": true
      },
      "cell_type": "markdown",
      "source": "# &nbsp;\n<font size=\"6\" color=\"#00A0B2\"  face=\"verdana\"> <B>Concept</B></font>\n## Incrementing a variable\n[![view video](https://iajupyterprodblobs.blob.core.windows.net/imagecontainer/common/play_video.png)]( http://edxinteractivepage.blob.core.windows.net/edxpages/f7cff1a7-5601-48a1-95a6-fd1fdfabd20e.html?details=[{\"src\":\"http://jupyternootbookwams.streaming.mediaservices.windows.net/188da429-ec3b-4302-8a9b-be513a073bb5/Unit1_Section7.1-increment.ism/manifest\",\"type\":\"application/vnd.ms-sstr+xml\"}],[{\"src\":\"http://jupyternootbookwams.streaming.mediaservices.windows.net/188da429-ec3b-4302-8a9b-be513a073bb5/Unit1_Section7.1-increment.vtt\",\"srclang\":\"en\",\"kind\":\"subtitles\",\"label\":\"english\"}])\n## Incrementing\n### `votes = votes + 1` &nbsp; &nbsp; or &nbsp;  `votes += 1`\n\n## Decrementing \n### `votes = votes - 1` &nbsp; &nbsp; or &nbsp; `votes -= 1`"
    },
    {
      "metadata": {},
      "cell_type": "markdown",
      "source": "# &nbsp;\n<font size=\"6\" color=\"#00A0B2\"  face=\"verdana\"> <B>Examples</B></font>\n  \n"
    },
    {
      "metadata": {
        "trusted": true
      },
      "cell_type": "code",
      "source": "# [ ] review and run example\nvotes = 3\nprint(votes)\n\nvotes = votes + 1\nprint(votes)\n\nvotes += 2\nprint(votes)",
      "execution_count": 3,
      "outputs": [
        {
          "output_type": "stream",
          "text": "3\n4\n6\n",
          "name": "stdout"
        }
      ]
    },
    {
      "metadata": {
        "trusted": true
      },
      "cell_type": "code",
      "source": "print(votes)\n\nvotes -= 1\nprint(votes)",
      "execution_count": 4,
      "outputs": [
        {
          "output_type": "stream",
          "text": "6\n5\n",
          "name": "stdout"
        }
      ]
    },
    {
      "metadata": {
        "trusted": true
      },
      "cell_type": "code",
      "source": "# [ ] review the SEAT COUNT code then run \n\nseat_count = 0\nwhile True:\n    print(\"seat count:\",seat_count)\n    seat_count = seat_count + 1\n\n    if seat_count > 4:\n        break",
      "execution_count": 5,
      "outputs": [
        {
          "output_type": "stream",
          "text": "seat count: 0\nseat count: 1\nseat count: 2\nseat count: 3\nseat count: 4\n",
          "name": "stdout"
        }
      ]
    },
    {
      "metadata": {
        "trusted": true
      },
      "cell_type": "code",
      "source": "# [ ] review the SEAT TYPE COUNT code then run entering: hard, soft, medium and exit\n\n# initialize variables\nseat_count = 0\nsoft_seats = 0\nhard_seats = 0\nnum_seats = 4\n\n# loops tallying seats using soft pads vs hard, until seats full or user \"exits\"\nwhile True:\n    seat_type = input('enter seat type of \"hard\",\"soft\" or \"exit\" (to finish): ')\n    \n    if seat_type.lower().startswith(\"e\"):\n        print()\n        break\n    elif seat_type.lower() == \"hard\":\n        hard_seats += 1\n    elif seat_type.lower() == \"soft\":\n        soft_seats += 1\n    else:\n        print(\"invalid entry: counted as hard\")\n        hard_seats += 1  \n    seat_count += 1\n    if seat_count >= num_seats:\n        print(\"\\nseats are full\")\n        break\n        \nprint(seat_count,\"Seats Total: \",hard_seats,\"hard and\",soft_seats,\"soft\" )",
      "execution_count": 6,
      "outputs": [
        {
          "output_type": "stream",
          "name": "stdout",
          "text": "enter seat type of \"hard\",\"soft\" or \"exit\" (to finish): hard\nenter seat type of \"hard\",\"soft\" or \"exit\" (to finish): harden\ninvalid entry: counted as hard\nenter seat type of \"hard\",\"soft\" or \"exit\" (to finish): soft\nenter seat type of \"hard\",\"soft\" or \"exit\" (to finish): soft\n\nseats are full\n4 Seats Total:  2 hard and 2 soft\n"
        }
      ]
    },
    {
      "metadata": {},
      "cell_type": "markdown",
      "source": "# &nbsp;\n<font size=\"6\" color=\"#B24C00\"  face=\"verdana\"> <B>Task 2</B></font>\n## incrementing in a `while()` loop\n### Program: Shirt Count\n- enter a sizes (S, M, L)\n- tally the count of each size\n- input \"exit\" when finished\n- report out the purchase of each shirt size  \n"
    },
    {
      "metadata": {
        "trusted": true
      },
      "cell_type": "code",
      "source": "# [ ] Create the Shirt Count program, run tests\n\n#initialize variables to indicate count of each size\nS = 0\nM = 0\nL = 0\nshirt_count = 0\nshirt_num = 10\nS_count = 3\nM_count = 4\nL_count = 3\n\n#loops tallying shirt sizes until shirts sold out or user \"exits\"\n\nwhile True:\n    buy_size = input('Please enter shirt size to buy (S,M,L): ')\n    if buy_size.lower().startswith('e'):\n        print('\"Exit\" detected: program stopped accidentally')\n        print()\n        break\n    elif buy_size.upper() == 'S':\n        S += 1\n        print()\n    elif buy_size.upper() == 'M':\n        M += 1\n        print()\n    elif buy_size.upper() == 'L':\n        L += 1\n        print()\n    else:\n        print('Invalid entry: Incorrect size entered')\n    shirt_count += 1\n    \n    if shirt_count >= shirt_num:\n        print('\\nshirts are out of stock')\n        break\n    elif int(S) >= S_count:\n        print('\\nS size shirts are out of stock')\n        break\n    elif int(M) >= M_count:\n        print('\\nM size shirts are out of stock')\n        break\n    elif int(L) >= L_count:\n        print('\\nL size shirts are out of stock')\n        break\nprint()\nprint('\\t\\tPURCHASE REPORT\\n\\n\\t\\tAmount:\\nSize:\\tS\\t',S,'\\n\\tM\\t',M,'\\n\\tL\\t',L,'\\n\\nTOTAL ITEMS:\\t',shirt_count)        \n",
      "execution_count": 16,
      "outputs": [
        {
          "output_type": "stream",
          "name": "stdout",
          "text": "Please enter shirt size to buy (S,M,L): S\n\nPlease enter shirt size to buy (S,M,L): S\n\nPlease enter shirt size to buy (S,M,L): m\n\nPlease enter shirt size to buy (S,M,L): s\n\n\nS size shirts are out of stock\n\n\t\tPURCHASE REPORT\n\n\t\tAmount:\nSize:\tS\t 3 \n\tM\t 1 \n\tL\t 0 \n\nTOTAL ITEMS:\t 4\n"
        }
      ]
    },
    {
      "metadata": {},
      "cell_type": "markdown",
      "source": "### CHALLENGE: Shirt Register (optional)  \nUpdate the **Shirt Count** program to calculate cost\n- use shirt cost (S = 6, M = 7, L = 8)\n- to calculate and report the subtotal cost for each size \n- to calculate and report the total cost of all shirts"
    },
    {
      "metadata": {
        "trusted": true
      },
      "cell_type": "code",
      "source": "# [ ] Create the Shirt Register program, run tests\n\n# [ ] Create the Shirt Count program, run tests\n\n#initialize variables to indicate count of each size\nS = 0\nM = 0\nL = 0\nshirt_count = 0\nshirt_num = 10\nS_count = 3\nM_count = 4\nL_count = 3\nS_cost = 6\nM_cost = 7\nL_cost = 8\n\n#loops tallying shirt sizes until shirts sold out or user \"exits\"\n\nwhile True:\n    buy_size = input('Please enter shirt size to buy (S,M,L): ')\n    if buy_size.lower().startswith('e'):\n        print('\"Exit\" detected: program stopped accidentally')\n        print()\n        break\n    elif buy_size.upper() == 'S':\n        S += 1\n        print()\n    elif buy_size.upper() == 'M':\n        M += 1\n        print()\n    elif buy_size.upper() == 'L':\n        L += 1\n        print()\n    else:\n        print('Invalid entry: Incorrect size entered')\n    shirt_count += 1\n    \n    if shirt_count >= shirt_num:\n        print('\\nshirts are out of stock')\n        break\n    elif int(S) >= S_count:\n        print('\\nS size shirts are out of stock')\n        print('\\nSubtotal cost for S size shirts is: $',int(S) * S_cost)\n        break\n    elif int(M) >= M_count:\n        print('\\nM size shirts are out of stock')\n        print('\\nSubtotal cost for M size shirts is: $',int(M) * M_cost)\n        break\n    elif int(L) >= L_count:\n        print('\\nL size shirts are out of stock')\n        print('\\nSubtotal cost for L size shirts is: $',int(L) * L_cost)\n        break\nprint()\nprint('\\t\\tPURCHASE REPORT\\n\\n\\t\\tAmount:\\t\\tPrice:\\nSize:\\tS\\t',S,'\\t\\t$',S_cost,\n      '\\n\\tM\\t',M,'\\t\\t$',M_cost,'\\n\\tL\\t',L,'\\t\\t$',L_cost,\n      '\\n\\nTOTAL ITEMS:\\t',shirt_count)        \nprint('TOTAL COST:\\t$',int(S)*S_cost + int(M)*M_cost + int(L)*L_cost)\n",
      "execution_count": 22,
      "outputs": [
        {
          "output_type": "stream",
          "name": "stdout",
          "text": "Please enter shirt size to buy (S,M,L): l\n\nPlease enter shirt size to buy (S,M,L): m\n\nPlease enter shirt size to buy (S,M,L): s\n\nPlease enter shirt size to buy (S,M,L): l\n\nPlease enter shirt size to buy (S,M,L): l\n\n\nL size shirts are out of stock\n\nSubtotal cost for L size shirts is: $ 24\n\n\t\tPURCHASE REPORT\n\n\t\tAmount:\t\tPrice:\nSize:\tS\t 1 \t\t$ 6 \n\tM\t 1 \t\t$ 7 \n\tL\t 3 \t\t$ 8 \n\nTOTAL ITEMS:\t 5\nTOTAL COST:\t$ 37\n"
        }
      ]
    },
    {
      "metadata": {},
      "cell_type": "markdown",
      "source": "[Terms of use](http://go.microsoft.com/fwlink/?LinkID=206977) &nbsp; [Privacy & cookies](https://go.microsoft.com/fwlink/?LinkId=521839) &nbsp; © 2017 Microsoft"
    },
    {
      "metadata": {
        "trusted": true
      },
      "cell_type": "code",
      "source": "num_1 = \"\"\nnum_temp = \"\"\nnum_final = \"\"\n\nwhile True:\n    num_1 = input(\"Enter an integer: \")\n    if num_1.isdigit():\n        num_final = num_temp + num_1\n        num_temp = num_final\n    else:\n        print(num_final)\n        break",
      "execution_count": 23,
      "outputs": [
        {
          "output_type": "stream",
          "name": "stdout",
          "text": "Enter an integer: 3\nEnter an integer: 4\nEnter an integer: five\n34\n"
        }
      ]
    },
    {
      "metadata": {
        "trusted": true
      },
      "cell_type": "code",
      "source": "x = 0 \n\nwhile True:\n    if x < 10:\n        print('run forever')\n        x += 1\n    else:\n        break",
      "execution_count": 24,
      "outputs": [
        {
          "output_type": "stream",
          "text": "run forever\nrun forever\nrun forever\nrun forever\nrun forever\nrun forever\nrun forever\nrun forever\nrun forever\nrun forever\n",
          "name": "stdout"
        }
      ]
    },
    {
      "metadata": {
        "trusted": true
      },
      "cell_type": "code",
      "source": "",
      "execution_count": null,
      "outputs": []
    }
  ],
  "metadata": {
    "anaconda-cloud": {},
    "kernelspec": {
      "name": "python3",
      "display_name": "Python 3",
      "language": "python"
    },
    "language_info": {
      "mimetype": "text/x-python",
      "nbconvert_exporter": "python",
      "name": "python",
      "pygments_lexer": "ipython3",
      "version": "3.5.4",
      "file_extension": ".py",
      "codemirror_mode": {
        "version": 3,
        "name": "ipython"
      }
    }
  },
  "nbformat": 4,
  "nbformat_minor": 1
}