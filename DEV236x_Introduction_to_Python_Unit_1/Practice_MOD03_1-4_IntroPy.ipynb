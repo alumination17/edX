{
  "cells": [
    {
      "metadata": {},
      "cell_type": "markdown",
      "source": "# 1-4.3 Intro Python Practice\n## Conditionals \n<font size=\"5\" color=\"#00A0B2\"  face=\"verdana\"> <B>Student will be able to</B></font>  \n- **control code flow with `if`... `else` conditional logic**  \n  - using Boolean string methods (`.isupper(), .isalpha(), .startswith()...`)  \n  - using comparision (`>, <, >=, <=, ==, !=`)  \n  - using Strings in comparisons  "
    },
    {
      "metadata": {},
      "cell_type": "markdown",
      "source": "## `if else`\n"
    },
    {
      "metadata": {
        "trusted": true
      },
      "cell_type": "code",
      "source": "# [ ] input avariable: age as digit and cast to int\n# if age greater than or equal to 12 then print message on age in 10 years \n# or else print message \"It is good to be\" age\n\nage = int(input('Enter age: '))\nif age >= 12:\n    print(age + 10,'in 10 years')\nelse:\n    print('It is good to be',age)\n\n\n",
      "execution_count": 2,
      "outputs": [
        {
          "output_type": "stream",
          "name": "stdout",
          "text": "Enter age: 11\nIt is good to be 11\n"
        }
      ]
    },
    {
      "metadata": {
        "trusted": true
      },
      "cell_type": "code",
      "source": "# [ ] input a number \n# if number IS a digit string then cast to int\n# print number \"greater than 100 is\" True/False\n# if number is NOT a digit string then message the user that \"only int is accepted\"\n\nnumber = input('Enter a number: ')\nif number.isdigit():\n    if int(number) > 100:\n        print(int(number),'is greater than 100 is',int(number) > 100)\n    else:\n        pass\nelse:\n    print('Only int is accepted')\n    \n",
      "execution_count": 4,
      "outputs": [
        {
          "output_type": "stream",
          "name": "stdout",
          "text": "Enter a number: 450\n450 is greater than 100 is True\n"
        }
      ]
    },
    {
      "metadata": {},
      "cell_type": "markdown",
      "source": "### Guessing a letter A-Z  \n**check_guess()** takes 2 string arguments: **letter and guess** (both expect single alphabetical character)   \n    - if guess is not an alpha character print invalid and return False\n    - test and print if guess is \"high\" or \"low\" and return False\n    - test and print if guess is \"correct\" and return True"
    },
    {
      "metadata": {
        "trusted": true
      },
      "cell_type": "code",
      "source": "# [ ] create check_guess()\n# call with test\n\n\ndef check_guess(letter,guess):\n    if letter.isalpha():\n        if guess.isalpha():\n            if guess > letter:\n                print ('High')\n                return False\n            elif guess < letter:\n                print('Low')\n                return False\n            else:\n                print('Correct')\n                return True\n        else:\n            print('Invalid')\n    else:\n        print('Invalid')\n        \nletter = input('Enter letter here: ').lower()\nguess = input('Enter a guess letter: ').lower()\n\ncheck_guess(letter,guess\n           )",
      "execution_count": 5,
      "outputs": [
        {
          "output_type": "stream",
          "name": "stdout",
          "text": "Enter letter here: test\nEnter a guess letter: TEST\nCorrect\n"
        },
        {
          "output_type": "execute_result",
          "execution_count": 5,
          "data": {
            "text/plain": "True"
          },
          "metadata": {}
        }
      ]
    },
    {
      "metadata": {
        "trusted": true
      },
      "cell_type": "code",
      "source": "# [ ] call check_guess with user input\n\ndef check_guess(letter,guess):\n    if letter.isalpha():\n        if guess.isalpha():\n            if guess > letter:\n                print ('High')\n                return False\n            elif guess < letter:\n                print('Low')\n                return False\n            else:\n                print('Correct')\n                return True\n        else:\n            print('Invalid')\n    else:\n        print('Invalid')\n        \nletter = input('Enter letter here: ').lower()\nguess = input('Enter a guess letter: ').lower()\n\ncheck_guess(letter,guess\n           )",
      "execution_count": 6,
      "outputs": [
        {
          "output_type": "stream",
          "name": "stdout",
          "text": "Enter letter here: F\nEnter a guess letter: G\nHigh\n"
        },
        {
          "output_type": "execute_result",
          "execution_count": 6,
          "data": {
            "text/plain": "False"
          },
          "metadata": {}
        }
      ]
    },
    {
      "metadata": {},
      "cell_type": "markdown",
      "source": "### Letter Guess\n**create letter_guess() function that gives user 3 guesses**\n- takes a letter character argument for the answer letter\n- gets user input for letter guess  \n- calls check_guess() with answer and guess\n- End letter_guess if \n    - check_guess() equals True, return True  \n    - or after 3 failed attempts, return False"
    },
    {
      "metadata": {
        "collapsed": true,
        "trusted": false
      },
      "cell_type": "code",
      "source": "# [ ] create letter_guess() function, call the function to test\n\ndef letter_guess()\n    answer = input('Enter answer letter here: ').lower()\n    guess = input('Enter guess letter here: ').lower()\n    if \n    \n",
      "execution_count": null,
      "outputs": []
    },
    {
      "metadata": {},
      "cell_type": "markdown",
      "source": "### Pet Conversation\n**ask the user for a sentence about a pet and then reply**  \n- get user input in variable: about_pet\n- using a series of **if** statements respond with appropriate conversation\n  - check if \"dog\" is in the string about_pet (sample reply \"Ah, a dog\")\n  - check if \"cat\" is in the string about_pet\n  - check if 1 or more animal is in string about_pet\n- no need for **else**'s\n- finish with thanking for the story"
    },
    {
      "metadata": {
        "trusted": true
      },
      "cell_type": "code",
      "source": "# [ ] complete pet conversation\n\nabout_pet = input('Enter a story about your pet: ').lower()\ndog = 'dog'\ncat = 'cat'\nif dog in about_pet:\n    print('Ah, a dog')\nif cat in about_pet:\n        print('Cat is among animals! Wow!')\nprint('Thanks for your story so much!',\n      'Interesting as fuck!')\n",
      "execution_count": 13,
      "outputs": [
        {
          "output_type": "stream",
          "name": "stdout",
          "text": "Enter a story about your pet: DoG was walkin\nAh, a dog\nThanks for your story so much! Interesting as fuck!\n"
        }
      ]
    },
    {
      "metadata": {
        "collapsed": true
      },
      "cell_type": "markdown",
      "source": "[Terms of use](http://go.microsoft.com/fwlink/?LinkID=206977) &nbsp; [Privacy & cookies](https://go.microsoft.com/fwlink/?LinkId=521839) &nbsp; © 2017 Microsoft"
    }
  ],
  "metadata": {
    "anaconda-cloud": {},
    "kernelspec": {
      "name": "python3",
      "display_name": "Python 3",
      "language": "python"
    },
    "language_info": {
      "mimetype": "text/x-python",
      "nbconvert_exporter": "python",
      "name": "python",
      "file_extension": ".py",
      "version": "3.5.4",
      "pygments_lexer": "ipython3",
      "codemirror_mode": {
        "version": 3,
        "name": "ipython"
      }
    }
  },
  "nbformat": 4,
  "nbformat_minor": 1
}