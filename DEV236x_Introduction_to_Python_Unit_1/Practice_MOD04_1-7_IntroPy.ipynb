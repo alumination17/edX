{
  "cells": [
    {
      "metadata": {
        "trusted": true
      },
      "cell_type": "code",
      "source": "",
      "execution_count": null,
      "outputs": []
    },
    {
      "metadata": {
        "trusted": true
      },
      "cell_type": "code",
      "source": "",
      "execution_count": null,
      "outputs": []
    },
    {
      "metadata": {},
      "cell_type": "markdown",
      "source": "# 1-7.2 Intro Python Practice\n## `while()` loops & increments\n<font size=\"5\" color=\"#00A0B2\"  face=\"verdana\"> <B>Student will be able to</B></font>\n- create forever loops using `while` and `break`\n- use incrementing variables in a while loop\n- control while loops using Boolean operators"
    },
    {
      "metadata": {
        "trusted": true
      },
      "cell_type": "code",
      "source": "# [ ] use a \"forever\" while loop to get user input of integers to add to sum, \n# until a non-digit is entered, then break the loop and print sum\nsum = 0\nwhile True:\n    user_input = input('\\nPlease enter integer to add to sum: ')\n    if user_input.isdigit():\n        sum = sum + int(user_input)\n        print('\\nsum result is: ',sum)\n    else:\n        print('\\nNon-digit input detected: stopping programm...')\n        break\n",
      "execution_count": null,
      "outputs": []
    },
    {
      "metadata": {},
      "cell_type": "markdown",
      "source": "###### [ ] use a while True loop (forever loop) to give 4 chances for input of a correct color in a rainbow\n# rainbow = \"red orange yellow green blue indigo violet\"\n\n"
    },
    {
      "metadata": {
        "trusted": true
      },
      "cell_type": "code",
      "source": "# [ ] use a while True loop (forever loop) to give 4 chances for input of a correct color \n# in a rainbow\nchance = 0\nrainbow = 'red orange yellow green blue indigo violet'\n\nwhile True:\n    color = input('\\nEnter a guess color: ').lower()\n    if color == 'red':\n        chance += 1\n        print('\\nSuccess! You guessed',color,'color','with',chance,'tries!')\n        break\n    elif color == 'orange':\n        chance += 1\n        print('\\nSuccess! You guessed',color,'color','with',chance,'tries!')\n        break\n    elif color == 'yellow':\n        chance += 1\n        print('\\nSuccess! You guessed',color,'color','with',chance,'tries!')\n        break\n    elif color == 'green':\n        chance += 1\n        print('\\nSuccess! You guessed',color,'color','with',chance,'tries!')\n        break\n    elif color == 'blue':\n        chance += 1\n        print('\\nSuccess! You guessed',color,'color','with',chance,'tries!')\n        break\n    elif color == 'indigo':\n        chance += 1\n        print('\\nSuccess! You guessed',color,'color','with',chance,'tries!')\n        break\n    elif color == 'violet':\n        chance += 1\n        print('\\nSuccess! You guessed',color,'color','with',chance,'tries!')\n        break\n    else:\n        chance += 1\n        print('\\n',chance,'attempts used. Try again!')\n    if chance > 4:\n        print('\\nSorry, out of attempts!')\n        break",
      "execution_count": null,
      "outputs": []
    },
    {
      "metadata": {
        "trusted": true
      },
      "cell_type": "code",
      "source": "# [ ] Get input for a book title, keep looping while input is Not in title format (title is every word capitalized)\ntitle = \"\"\nwhile True:\n    book_title = input('\\nEnter a book title: ')\n    if book_title.istitle():\n        print('\\nTitle format added!')\n        break\n    else:\n        print('\\nNot in title format detected: Try once again!\\n[Title format is every word capitalized]')\n\n\n\n    ",
      "execution_count": null,
      "outputs": []
    },
    {
      "metadata": {
        "trusted": true
      },
      "cell_type": "code",
      "source": "# [ ] create a math quiz question and ask for the solution until the input is correct\n# initialize variables\ny = 0\nx = 5\nwhile True:\n    print('\\ny = x - 5')\n    print('y = ',y)\n    x = input('x = ')\n    if int(x) == 5:\n        print('\\nx = 5',int(x) == 5)\n        break\n    else:\n        print('\\nWrong answer!')\n",
      "execution_count": null,
      "outputs": []
    },
    {
      "metadata": {},
      "cell_type": "markdown",
      "source": "### Fix the Error"
    },
    {
      "metadata": {
        "trusted": true
      },
      "cell_type": "code",
      "source": "# [ ] review the code, run, fix the error\ntickets = input(\"enter tickets remaining (0 to quit): \")\n\nwhile int(tickets) > 0:\n        # if tickets are multiple of 3 then \"winner\"\n    if int(tickets) % 3 == 0:\n        print(\"you win!\")\n        break\n    else:\n        print(\"sorry, not a winner.\")\n    tickets = int(input(\"enter tickets remaining (0 to quit): \"))\n    if tickets == '0':\n        print('game stopped...')\n        break\nprint(\"Game ended\")\n    \n",
      "execution_count": null,
      "outputs": []
    },
    {
      "metadata": {},
      "cell_type": "markdown",
      "source": "# create a function: quiz_item()  that asks a question and tests if input is correct  \n- quiz_item()has 2 parameter **strings**: question and solution  \n- shows question, gets answer input  \n- returns True if `answer == solution` or continues to ask question until correct answer is provided  \n- use a while loop\n\ncreate 2 or more quiz questions that call quiz_item()  \n**Hint**: provide multiple choice or T/F answers"
    },
    {
      "metadata": {
        "trusted": true
      },
      "cell_type": "code",
      "source": "# Create quiz_item() and 2 or more quiz questions that call quiz_item()\nquestion = 'What is the capital of Great Britain?'\nsolution = 'London'\ndef quiz_item(question,solution):\n    print('\\n',question)\n    while True: \n        answer = input('\\nEnter answer here: ').capitalize()\n        if answer == solution: \n            print('\\n',answer == solution,',',answer,'is the capital of Great Britain.')\n            return True\n            break\n        else:\n            print('\\n',answer == solution,',',answer,'is not a capital of Great Britain.\\nTry again!')\n\nquiz_item(question,solution)            ",
      "execution_count": 1,
      "outputs": [
        {
          "output_type": "stream",
          "text": "\n What is the capital of Great Britain?\n\nEnter answer here: what \n\n False , What  is not a capital of Great Britain.\nTry again!\n\nEnter answer here: london\n\n True , London is the capital of Great Britain.\n",
          "name": "stdout"
        },
        {
          "output_type": "execute_result",
          "execution_count": 1,
          "data": {
            "text/plain": "True"
          },
          "metadata": {}
        }
      ]
    },
    {
      "metadata": {
        "collapsed": true
      },
      "cell_type": "markdown",
      "source": "[Terms of use](http://go.microsoft.com/fwlink/?LinkID=206977) &nbsp; [Privacy & cookies](https://go.microsoft.com/fwlink/?LinkId=521839) &nbsp; © 2017 Microsoft"
    },
    {
      "metadata": {
        "trusted": true
      },
      "cell_type": "code",
      "source": "",
      "execution_count": null,
      "outputs": []
    }
  ],
  "metadata": {
    "anaconda-cloud": {},
    "kernelspec": {
      "name": "python3",
      "display_name": "Python 3",
      "language": "python"
    },
    "language_info": {
      "mimetype": "text/x-python",
      "nbconvert_exporter": "python",
      "name": "python",
      "pygments_lexer": "ipython3",
      "version": "3.5.4",
      "file_extension": ".py",
      "codemirror_mode": {
        "version": 3,
        "name": "ipython"
      }
    }
  },
  "nbformat": 4,
  "nbformat_minor": 1
}