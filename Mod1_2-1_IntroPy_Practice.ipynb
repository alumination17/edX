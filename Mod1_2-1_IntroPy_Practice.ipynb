{
  "cells": [
    {
      "metadata": {},
      "cell_type": "markdown",
      "source": "# 2-1 Intro Python Practice\n## Sequence: String\n\n<font size=\"5\" color=\"#00A0B2\"  face=\"verdana\"> <B>Student will be able to</B></font>  \n- Work with String Characters\n- Slice strings into substrings\n- Iterate through String Characters\n- Use String ~~Tricks~~ Methods"
    },
    {
      "metadata": {},
      "cell_type": "markdown",
      "source": "# &nbsp;\n<font size=\"6\" color=\"#B24C00\"  face=\"verdana\"> <B>Task 1</B></font>\n##  Access String Characters \n### `working_string[index]`\n"
    },
    {
      "metadata": {
        "trusted": true
      },
      "cell_type": "code",
      "source": "# [ ] access and print the second character from planet_name: \"u\"\nplanet_name = \"Jupiter\"\nu_loc = planet_name.find('u')\nprint(planet_name[u_loc:u_loc+1], 'is located at index number',u_loc)\n",
      "execution_count": 3,
      "outputs": [
        {
          "output_type": "stream",
          "text": "u is located at index number 1\n",
          "name": "stdout"
        }
      ]
    },
    {
      "metadata": {
        "trusted": true
      },
      "cell_type": "code",
      "source": "# [ ] access and print the first character from planet_name: \"J\"\nplanet_name = \"Jupiter\"\nj_loc = planet_name.lower().find('j')\nprint(planet_name[j_loc:j_loc+1], 'is located at index number',j_loc)\n",
      "execution_count": 6,
      "outputs": [
        {
          "output_type": "stream",
          "text": "J is located at index number 0\n",
          "name": "stdout"
        }
      ]
    },
    {
      "metadata": {
        "trusted": true
      },
      "cell_type": "code",
      "source": "# [ ] access and print the first and last characters from planet_name\nplanet_name = \"Jupiter\"\nfirst_ch = planet_name[:1]\nlast_ch = planet_name[-1:]\nprint('First character of',planet_name,'is',first_ch)\nprint('Last character of',planet_name,'is',last_ch)\n",
      "execution_count": 7,
      "outputs": [
        {
          "output_type": "stream",
          "text": "First character of Jupiter is J\nLast character of Jupiter is r\n",
          "name": "stdout"
        }
      ]
    },
    {
      "metadata": {
        "trusted": true
      },
      "cell_type": "code",
      "source": "# [ ] using a negative index access and print the first character from planet_name: \"J\"\nplanet_name = \"Jupiter\"\nfirst_ch = planet_name[0::-1]\nprint(first_ch)",
      "execution_count": 10,
      "outputs": [
        {
          "output_type": "stream",
          "text": "J\n",
          "name": "stdout"
        }
      ]
    },
    {
      "metadata": {},
      "cell_type": "markdown",
      "source": "# &nbsp;\n<font size=\"6\" color=\"#B24C00\"  face=\"verdana\"> <B>Task 2</B></font>\n## slice\n### `working_string[start:stop]`\n### `working_string[start:stop:step]`"
    },
    {
      "metadata": {
        "trusted": true
      },
      "cell_type": "code",
      "source": "# [ ] print planet_name sliced into the first 3 characters and remaining characters\nplanet_name = \"Neptune\"\nprint(planet_name[:3])\nprint(planet_name[3:])\n",
      "execution_count": 12,
      "outputs": [
        {
          "output_type": "stream",
          "text": "Nep\ntune\n",
          "name": "stdout"
        }
      ]
    },
    {
      "metadata": {
        "trusted": true
      },
      "cell_type": "code",
      "source": "# [ ] print 1st char and then every 3rd char of wise_words\n# use string slice with a step\nwise_words = 'Play it who opens'\n\nprint(wise_words[::3])",
      "execution_count": 14,
      "outputs": [
        {
          "output_type": "stream",
          "text": "Python\n",
          "name": "stdout"
        }
      ]
    },
    {
      "metadata": {
        "trusted": true
      },
      "cell_type": "code",
      "source": "# [ ] print planet_name in reverse\n\nprint(planet_name[::-1])\n",
      "execution_count": 15,
      "outputs": [
        {
          "output_type": "stream",
          "text": "enutpeN\n",
          "name": "stdout"
        }
      ]
    },
    {
      "metadata": {
        "collapsed": true
      },
      "cell_type": "markdown",
      "source": "# &nbsp;\n<font size=\"6\" color=\"#B24C00\"  face=\"verdana\"> <B>Task 3</B></font>\n\n## iterate a String\n### `for letter in sentence:`"
    },
    {
      "metadata": {
        "trusted": true
      },
      "cell_type": "code",
      "source": "# [ ] Get user input for 1 fav_food\n# [ ] iterate through letters in fav_food \n#    - print each letter on a new line\n\nfav_food = input('Please enter your favourite food: ')\nfor letter in fav_food:\n    print(letter)\n",
      "execution_count": 18,
      "outputs": [
        {
          "output_type": "stream",
          "name": "stdout",
          "text": "Please enter your favourite food: Snitchynines\nS\nn\ni\nt\nc\nh\ny\nn\ni\nn\ne\ns\n"
        }
      ]
    },
    {
      "metadata": {
        "trusted": true
      },
      "cell_type": "code",
      "source": "# [ ] iterate work_tip string concatenate each letter to variable: new_string \n# [ ] concatenate the letter or a \"-\" instead of a space \" \"\n# tip: concatenate string example: word = word + \"a\"\n\nnew_string = ''\nwork_tip = \"Good code is commented code\"\nfor word in work_tip:\n    if word != ' ':\n        new_string += word\n    else:\n        new_string += '-'\nprint(new_string)\n\n",
      "execution_count": 45,
      "outputs": [
        {
          "output_type": "stream",
          "text": "Good-code-is-commented-code\n",
          "name": "stdout"
        }
      ]
    },
    {
      "metadata": {
        "trusted": true
      },
      "cell_type": "code",
      "source": "# [ ] Print the first 4 letters of name on new line\nname = \"Hiroto\"\nfor letter in name[:4]:\n    print(letter)\n",
      "execution_count": 40,
      "outputs": [
        {
          "output_type": "stream",
          "text": "H\ni\nr\no\n",
          "name": "stdout"
        }
      ]
    },
    {
      "metadata": {
        "trusted": true
      },
      "cell_type": "code",
      "source": "# [ ] Print every other letter from 2nd to last letter of name \nname = \"Hiroto\"\nfor letter in name[1::2]:\n    print(letter)\n",
      "execution_count": 41,
      "outputs": [
        {
          "output_type": "stream",
          "text": "i\no\no\n",
          "name": "stdout"
        }
      ]
    },
    {
      "metadata": {},
      "cell_type": "markdown",
      "source": "# &nbsp;\n<font size=\"6\" color=\"#B24C00\"  face=\"verdana\"> <B>Task 4</B></font>\n\n## Program: Mystery Name\n- get user input for first_name\n- create an empty string variable: new_name\n- iterate through letters in first_name Backwards \n  - add each letter to new_name as you iterate\n  - Replace the letter if \"e\", \"t\" or \"a\" with \"?\" *(hint: if, elif, elif, else)*\n- print new_name  \n\n**example: \"Alton\" = \"no?l?\"**"
    },
    {
      "metadata": {
        "trusted": true
      },
      "cell_type": "code",
      "source": "# [ ] Create Mystery Name\n# [ ] Get user input for first_name\nfirst_name = input('Please enter your first name here: ')\n\n#[ ] create an empty string variable: new name\nnew_name = ''\n\n#[ ] iterate through letters in first_name backwards:\nfor letter in first_name[::-1]:\n    if letter.lower() == 'e':\n        new_name += '?'\n    elif letter.lower() == 't':\n        new_name += '?'\n    elif letter.lower() == 'a':\n        new_name += '?'\n    else:\n        new_name += letter\nprint(new_name)\n",
      "execution_count": 44,
      "outputs": [
        {
          "output_type": "stream",
          "name": "stdout",
          "text": "Please enter your first name here: Annette\n????nn?\n"
        }
      ]
    },
    {
      "metadata": {},
      "cell_type": "markdown",
      "source": "# &nbsp;\n<font size=\"6\" color=\"#B24C00\"  face=\"verdana\"> <B>Task 4</B></font>\n## `len(), .find(), .count()`   \n\n```  \n- len(working_string)\n- .find(\"i\")\n- .find(\"i\",start)\n- .find(\"i\", start, end)\n- .count(\"i\")\n- .count(\"i\", start)\n- .count(\"i\", start, end)\n```   "
    },
    {
      "metadata": {
        "trusted": true
      },
      "cell_type": "code",
      "source": "# [ ] find and display the length of the string: topic\ntopic = \"len() returns the length of a string\"\nprint(len(topic), 'is the length of the topic')\n",
      "execution_count": null,
      "outputs": []
    },
    {
      "metadata": {
        "trusted": true
      },
      "cell_type": "code",
      "source": "# [ ] use len() to find and display the mid_pt (middle) index (+/- 1) of the string: topic\n# note: index values are whole numbers\ntopic = \"len() can take a sequence, like a string, as an argument\"\nmid_pt = int(len(topic)/2)\nprint(mid_pt,'- the index of topic\\'s middle point')\n",
      "execution_count": null,
      "outputs": []
    },
    {
      "metadata": {
        "trusted": true
      },
      "cell_type": "code",
      "source": "# [ ] print index where first instance of the word  \"code\" starts using .find()\nwork_tip = \"Good code is commented code\"\nprint('First instance of the word \\'code\\' starts at: ',work_tip.find('code'))\n",
      "execution_count": null,
      "outputs": []
    },
    {
      "metadata": {
        "trusted": false
      },
      "cell_type": "code",
      "source": "# [ ] search for \"code\" in code_tip using .find() \n# [ ] search substring with substring index start= 13,end = last char \n# [ ] save result in variable: code_index\n# [ ] display index of where \"code\" is found, or print \"not found\" if code_index == -1\nwork_tip = \"Good code is commented code\"\n\n",
      "execution_count": null,
      "outputs": []
    },
    {
      "metadata": {
        "collapsed": true
      },
      "cell_type": "markdown",
      "source": "# &nbsp;\n<font size=\"6\" color=\"#B24C00\"  face=\"verdana\"> <B>Task 5</B></font>"
    },
    {
      "metadata": {
        "trusted": true
      },
      "cell_type": "code",
      "source": "# [ ] find and report (print) number of w's, o's + use of word \"code\"\nwork_tip = \"Good code is commented code\"\nprint('REPORT:\\nNumber of \\'w\\' in the string:',work_tip.count('w'))\nprint('Number of \\'o\\' in the string:',work_tip.count('o'))\nprint('Number of word \\'code\\' in the string:',work_tip.count('code'))",
      "execution_count": 2,
      "outputs": [
        {
          "output_type": "stream",
          "text": "REPORT:\nNumber of 'w' in the string: 0\nNumber of 'o' in the string: 5\nNumber of word 'code' in the string: 2\n",
          "name": "stdout"
        }
      ]
    },
    {
      "metadata": {
        "trusted": true
      },
      "cell_type": "code",
      "source": "# [ ]  count times letter \"i\" appears in code_tip string\n# [ ] find and display the index of all the letter i's in code_tip\n# Remember: if .find(\"i\") has No Match, -1 is returned\ncode_tip = \"code a conditional decision like you would say it\"\nprint (\"code_tip:\" , code_tip)\ncount_times = code_tip.count('i')\nindex_i = code_tip.find('i')\nprint('\\nREPORT:\\nIndex of letter \\'i\\' in the string:\\n')\nwhile index_i >= 0:\n    print(index_i)\n    index_i = code_tip.find('i',index_i + 1)\n    \n",
      "execution_count": 3,
      "outputs": [
        {
          "output_type": "stream",
          "text": "code_tip: code a conditional decision like you would say it\n\nREPORT:\nIndex of letter 'i' in the string:\n\n11\n13\n22\n24\n29\n47\n",
          "name": "stdout"
        }
      ]
    },
    {
      "metadata": {},
      "cell_type": "markdown",
      "source": "# &nbsp;\n<font size=\"6\" color=\"#B24C00\"  face=\"verdana\"> <B>Task 6</B></font>\n\n## Program: Words after \"G\"/\"g\"\nCreate a program inputs a phrase (like a famous quotation) and prints all of the words that start with h-z\n\nSample input:  \n`enter a 1 sentence quote, non-alpha separate words:` **`Wheresoever you go, go with all your heart`**  \n\nSample output:\n```\nWHERESOEVER\nYOU\nWITH\nYOUR\nHEART\n```\n- split the words by building a placeholder variable: **`word`**  \n  - loop each character in the input string  \n  - check if character is a letter  \n  - add a letter to **`word`** each loop until a non-alpha char is encountered  \n\n- **if** character is alpha \n  - add character to **`word`**    \n  - non-alpha detected (space, punctuation, digit,...) defines the end of a word and goes to **`else`**    \n- **`else`**  \n  - check **`if`** word is greater than \"g\" alphabetically\n      - print word \n      - set word = empty string\n  - or **else** \n    - set word = empty string and build the next word  \n\nHint: use `.lower()`"
    },
    {
      "metadata": {
        "trusted": true
      },
      "cell_type": "code",
      "source": "# [] create words after \"G\"\n# sample quote \"Wheresoever you go, go with all your heart\" ~ Confucius (551 BC - 479 BC)\n\n#define a variable word and assign it an empty string\nword = ''\n\n#get user input for a variable 'phrase':\nphrase = input('Enter a 1 sentence quote, non-alpha separate words: ').lower()\n\nfor letter in phrase:\n    if letter.isalpha():\n        word += letter\n    else:\n        if word >= 'h':\n            print(word.upper())\n            word = ''\n        else:\n            word = ''\n",
      "execution_count": 4,
      "outputs": [
        {
          "output_type": "stream",
          "name": "stdout",
          "text": "Enter a 1 sentence quote, non-alpha separate words: \"Wheresoever you go, go with all your heart\"\nWHERESOEVER\nYOU\nWITH\nYOUR\nHEART\n"
        }
      ]
    },
    {
      "metadata": {
        "collapsed": true
      },
      "cell_type": "markdown",
      "source": "[Terms of use](http://go.microsoft.com/fwlink/?LinkID=206977) &nbsp; [Privacy & cookies](https://go.microsoft.com/fwlink/?LinkId=521839) &nbsp; © 2017 Microsoft"
    }
  ],
  "metadata": {
    "anaconda-cloud": {},
    "kernelspec": {
      "name": "python3",
      "display_name": "Python 3",
      "language": "python"
    },
    "language_info": {
      "mimetype": "text/x-python",
      "nbconvert_exporter": "python",
      "name": "python",
      "file_extension": ".py",
      "version": "3.5.4",
      "pygments_lexer": "ipython3",
      "codemirror_mode": {
        "version": 3,
        "name": "ipython"
      }
    }
  },
  "nbformat": 4,
  "nbformat_minor": 1
}