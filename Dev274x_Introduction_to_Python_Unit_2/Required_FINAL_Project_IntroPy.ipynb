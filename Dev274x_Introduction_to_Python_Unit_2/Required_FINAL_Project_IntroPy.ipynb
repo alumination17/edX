{
  "cells": [
    {
      "metadata": {},
      "cell_type": "markdown",
      "source": "# Final Project Required Coding Activity  \nIntroduction to Python (Unit 2) Fundamentals  \n\n**This Activity is intended to be completed in the jupyter notebook, `Required_FINAL_Project_IntroPy.ipynb`, and then pasted into the assessment page that follows.**   \n \nAll course .ipynb Jupyter Notebooks are available from the project files download topic in Module 1, Section 1.  \n\nThis activity is based on modules 1 - 4 and is similar to exercises in the Jupyter Notebooks **`Practice_MOD03_IntroPy.ipynb`** and **`Practice_MOD04_IntroPy.ipynb`** which you may have completed as practice.\n\n| **Assignment Requirements** |\n|:-------------------------------|\n|This program requires the use of **`print`** output and use of  **`input`**, **`for`**/**`in`** loop, **`if`**, file **`open`**, **`.readline`**, **`.append`**, **`.strip`**, **`len`**. and function **`def`** and **`return`**. The code should also consider using most of the following (`.upper()` or `.lower()`, `.title()`, `print(\"hello\",end=\"\")` `else`, `elif`, `range()`, `while`, `.close()`) |\n\n\n## Program: Element_Quiz  \nIn this program the user enters the name of any 5 of the first 20 Atomic Elements and is given a grade and test report for items correct and incorrect.  \n\n\n### Sample input and output:  \n```\nlist any 5 of the first 20 elements in the Period table\nEnter the name of an element: argon\nEnter the name of an element: chlorine\nEnter the name of an element: sodium\nEnter the name of an element: argon\nargon was already entered          <--no duplicates allowed\nEnter the name of an element: helium\nEnter the name of an element: gold\n\n80 % correct\nFound: Argon Chlorine Sodium Helium \nNot Found: Gold \n```  \n\n\n### Create get_names() Function to collect input of 5 unique element names  \n\n- The function accepts no arguments and returns a list of 5 input strings (element names)  \n- define a list to hold the input\n- collect input of a element name  \n- if input it is **not** already in the list add the input to the list  \n- don't allow empty strings as input  \n- once 5 unique inputs **return** the list  \n\n\n### Create the Program flow  \n\n#### import the file into the Jupyter Notebook environment   \n\n- use `!curl` to download https://raw.githubusercontent.com/MicrosoftLearning/intropython/master/elements1_20.txt\" as `elements1_20.txt`  \n- open the file with the first 20 elements  \n- read one line at a time to get element names, remove any whitespace (spaces, newlines) and save each element name, as lowercase, into a list  \n\n\n####  Call the get_names() function  \n\n- the return value will be the quiz responses list  \n\n#### check if responses are in the list of elements  \nIterate through 5 responses  \n- compare each response to the list of 20 elements\n  - any response that is in the list of 20 elements is correct and should be added to a list of correct responses  \n  - if not in the list of 20 elements then add to a list of incorrect responses  \n\n#### calculate the % correct  \n \n - find the the number of items in the correct responses and divide by 5, this will result in answers like 1.0, .8, .6,...  \n - to get the % multiple the calculated answer above by 100, this will result in answers like 100, 80, 60...  \n - *hint: instead of dividing by 5 and then multiplying by 100, the number of correct responses can be multiplied by 20*  \n\n#### Print output  \n\n- print the Score % right  \n- print each of the correct responses  \n- print each of the incorrect responses  \n\n\n### create Element_Quiz  then paste code on edX submission page\n\n"
    },
    {
      "metadata": {
        "trusted": true
      },
      "cell_type": "code",
      "source": "# 1st part of the code\n\ndef get_names(): # get_names() Function to collect input of 5 unique element names\n    element_list = []\n    print('list any 5 of the first 20 elements in the Period table')\n    \n    while len(element_list) < 5:\n        element_input = input('Enter the name of an element: ')\n        \n        if element_input == '':\n            print('Invalid input: empty input is not allowed!')\n            \n        elif element_input in element_list:\n            print(element_input,'was already entered\\t\\t<--no duplicates allowed')\n            \n        else:\n            element_list.append(element_input)\n            \n    return element_list\n\n\n",
      "execution_count": null,
      "outputs": []
    },
    {
      "metadata": {
        "trusted": true
      },
      "cell_type": "code",
      "source": "# 2nd part of the code\n# Program Flow here\n\nappend_list = [] # initialize empty list to append elements\n\n!curl https://raw.githubusercontent.com/MicrosoftLearning/intropython/master/elements1_20.txt -o elements1_20.txt # import file\n\nelement_text = open('elements1_20.txt','r+') # open file in 'read+' mode\n\nelement_name = element_text.readline().strip() # read one line at a time, remove whitespaces and save as a string\n                                               # in a variable 'element_name'\n\nwhile element_name: # while loop runs until .readline() reads an existing string in the element_text\n    append_list.append(element_name.lower())\n    element_name = element_text.readline().strip()\n\nprint(append_list) # check that the list was appended correctly\n",
      "execution_count": null,
      "outputs": []
    },
    {
      "metadata": {
        "trusted": true
      },
      "cell_type": "code",
      "source": "# entire code made of two parts listed above\n\ndef get_names(): # get_names() Function to collect input of 5 unique element names\n    global element_list # element_list is used below in for-in loop, so need to declare it a global list to be called later\n    element_list = []\n    print('list any 5 of the first 20 elements in the Period table')\n    \n    while len(element_list) < 5:\n        element_input = input('Enter the name of an element: ')\n        \n        if element_input == '':\n            print('Invalid input: empty input is not allowed!')\n            \n        elif element_input in element_list:\n            print(element_input,'was already entered\\t\\t<--no duplicates allowed')\n            \n        else:\n            element_list.append(element_input)\n            \n    return element_list\n\n# Program Flow here\n\nappend_list = [] # initialize empty list to append elements\n\n!curl https://raw.githubusercontent.com/MicrosoftLearning/intropython/master/elements1_20.txt -o elements1_20.txt # import file\n\nelement_text = open('elements1_20.txt','r+') # open file in 'read+' mode\n\nelement_name = element_text.readline().strip() # read one line at a time, remove whitespaces and save as a string\n                                               # in a variable 'element_name'\nwhile element_name:\n    append_list.append(element_name.lower())\n    element_name = element_text.readline().strip()\n\nget_names() # call get_names()\n\ncorrect = [] # initialize lists of correct/incorrect responses\nincorrect = []\n\nfor element in element_list: # use for-in loop to iterate through each response if it is in the list of elements\n    if element in append_list:\n        correct.append(element.title())\n    else:\n        incorrect.append(element.title())\n\npercentage = len(correct) * 20 # divide No of correct responses by 5 and multiply by 100 to get the % (here: multiple by 20 instead)\n\nprint('\\n',percentage,'% correct') # indicate the % of correct answers\nprint('Found:',' '.join(correct)) # use .join() to convert list of strings to separate strings with whitespace connector ' '\nprint('Not Found:',' '.join(incorrect))",
      "execution_count": 3,
      "outputs": [
        {
          "output_type": "stream",
          "text": "  % Total    % Received % Xferd  Average Speed   Time    Time     Time  Current\n                                 Dload  Upload   Total   Spent    Left  Speed\n100   161  100   161    0     0     68      0  0:00:02  0:00:02 --:--:--    68\nlist any 5 of the first 20 elements in the Period table\nEnter the name of an element: argon\nEnter the name of an element: \nInvalid input: empty input is not allowed!\nEnter the name of an element: \nInvalid input: empty input is not allowed!\nEnter the name of an element: \nInvalid input: empty input is not allowed!\nEnter the name of an element: argon\nargon was already entered\t\t<--no duplicates allowed\nEnter the name of an element: argon\nargon was already entered\t\t<--no duplicates allowed\nEnter the name of an element: chlorine\nEnter the name of an element: medium\nEnter the name of an element: sodium\nEnter the name of an element: helium\n\n 80 % correct\nFound: Argon Chlorine Sodium Helium\nNot Found: Medium\n",
          "name": "stdout"
        }
      ]
    },
    {
      "metadata": {},
      "cell_type": "markdown",
      "source": "### Need assignment tips and clarification? \nSee the video on the \"Final coding assignment > Required Final Project\" course page on [edX](https://courses.edx.org/courses/course-v1:Microsoft+DEV274x+4T2017/course)    \n\n# Important:  [How to submit code by pasting](https://courses.edx.org/courses/course-v1:Microsoft+DEV274x+2T2017/wiki/Microsoft.DEV274x.2T2017/paste-code-end-module-coding-assignments/)\n"
    },
    {
      "metadata": {},
      "cell_type": "markdown",
      "source": "[Terms of use](http://go.microsoft.com/fwlink/?LinkID=206977) &nbsp; [Privacy & cookies](https://go.microsoft.com/fwlink/?LinkId=521839) &nbsp; © 2017 Microsoft"
    }
  ],
  "metadata": {
    "anaconda-cloud": {},
    "kernelspec": {
      "name": "python3",
      "display_name": "Python 3",
      "language": "python"
    },
    "language_info": {
      "mimetype": "text/x-python",
      "nbconvert_exporter": "python",
      "name": "python",
      "pygments_lexer": "ipython3",
      "version": "3.5.4",
      "file_extension": ".py",
      "codemirror_mode": {
        "version": 3,
        "name": "ipython"
      }
    }
  },
  "nbformat": 4,
  "nbformat_minor": 1
}