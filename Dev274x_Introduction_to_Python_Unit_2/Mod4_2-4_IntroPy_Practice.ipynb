{
  "cells": [
    {
      "metadata": {},
      "cell_type": "markdown",
      "source": "# 2-4 Intro Python Practice\n## Working with Files\n\n<font size=\"5\" color=\"#00A0B2\"  face=\"verdana\"> <B>Student will be able to</B></font>  \n \n- Import files into Jupyter notebooks  \n- Open and **`.read()`** local files in memory   \n- Use **`.read()`** to read a specific number of characters  \n- Use **`.readlines()`** to read data from file as a **list** of lines  \n- Use **`.readlines()`** to read data from file as a **list** of lines   \n- Use **`.readline()`** to read data from file a line at a time   \n- Use **`.strip()`** to remove new line characters  \n- Use `.write()` to write data to a new local file  \n- Use **`.seek()`** to set file read or write location  \n- Use file append mode  \n"
    },
    {
      "metadata": {
        "collapsed": true
      },
      "cell_type": "markdown",
      "source": "# &nbsp;\n<font size=\"6\" color=\"#B24C00\"  face=\"verdana\"> <B>Task 1</B></font>\n\n## Order the Rainbow\n#### Open the rainbow file then put in a list and print in alphabetical order\nDownload and open the file. \n- Download list of rainbow colors, as `rainbow.txt`, using `curl` \n  https://raw.githubusercontent.com/MicrosoftLearning/intropython/master/rainbow   \n- Open rainbow.txt in read mode using a variable: rainbow_file   \n "
    },
    {
      "metadata": {
        "trusted": true
      },
      "cell_type": "code",
      "source": "# [ ] import https://raw.githubusercontent.com/MicrosoftLearning/intropython/master/rainbow as rainbow.txt\n!curl https://raw.githubusercontent.com/MicrosoftLearning/intropython/master/rainbow -o rainbow.txt\nrainbow_file = open('rainbow.txt','r')",
      "execution_count": null,
      "outputs": []
    },
    {
      "metadata": {},
      "cell_type": "markdown",
      "source": "\n- Read rainbow_file as a list variable: rainbow_colors using `.readlines()`    \n"
    },
    {
      "metadata": {
        "trusted": true
      },
      "cell_type": "code",
      "source": "# [ ]  Open rainbow.txt in read mode & read as list with .readlines()\nrainbow_colors = rainbow_file.readlines()\n",
      "execution_count": null,
      "outputs": []
    },
    {
      "metadata": {},
      "cell_type": "markdown",
      "source": " \n1. Sort the rainbow_lines list alphabetically.  \n2. Print each line of rainbow_lines by iterating the sorted list.  \n3. Close rainbow_file.  "
    },
    {
      "metadata": {
        "trusted": true
      },
      "cell_type": "code",
      "source": "# [ ] sort rainbow_colors list, iterate the list to print each color\nrainbow_colors.sort()\nfor color in rainbow_colors:\n    print(color)\n    \nrainbow_file.close()",
      "execution_count": null,
      "outputs": []
    },
    {
      "metadata": {
        "collapsed": true
      },
      "cell_type": "markdown",
      "source": "# &nbsp;\n<font size=\"6\" color=\"#B24C00\"  face=\"verdana\"> <B>Task 2</B></font>\n\n## The Weather\nCreate a program that reads from a file to display city name and average temperature in Celsius.   \n\n&nbsp;  \n- use `!curl` to download https://raw.githubusercontent.com/MicrosoftLearning/intropython/master/world_temp_mean.csv as `mean_temp.txt`  \n  \n"
    },
    {
      "metadata": {
        "trusted": true
      },
      "cell_type": "code",
      "source": "# [ ] The Weather: import world_mean_team.csv as mean_temp.txt\n!curl https://raw.githubusercontent.com/MicrosoftLearning/intropython/master/world_temp_mean.csv -o mean_temp.txt\n",
      "execution_count": null,
      "outputs": []
    },
    {
      "metadata": {},
      "cell_type": "markdown",
      "source": "1. Open the file in `'r'` mode.  \n2. Read the first line of text into a variable called: `  headings` and `print()`.  \n3. Convert `headings` to a list using **`.split(',')`** which splits on each comma, `print()` the list.\n"
    },
    {
      "metadata": {
        "trusted": true
      },
      "cell_type": "code",
      "source": "# [ ] The Weather: open file, read/print first line, convert line to list (splitting on comma)\nmean_temp = open('mean_temp.txt','r')\nheadings = mean_temp.readline().strip('*\\n') # using .strip() method to eliminate unintended symbols like '\\n'\nprint('Headings:\\n' + headings)\n\nheadings_list = headings.split(',')\nprint('Heading List:')\nprint(headings_list)",
      "execution_count": null,
      "outputs": []
    },
    {
      "metadata": {},
      "cell_type": "markdown",
      "source": "#### use a while loop to read the remaining lines from the file  \n  1. Assign remaining lines to a **`city_temp`** variable.  \n  2. Convert the city_temp to a list using **`.split(',')`** for each **`.readline()`** in the loop.  \n  3. Print each city & the highest monthly average temperature.  \n  4. Close mean_temps.  \n\n>Tips & Hints:   \n- Use the print output of **`headings`** to determine the city_temp indexes to use.  \n- \"month ave: highest high\" for Beijing is 30.9 Celsius.  \n- Convert `city_temp` to lists with `.split(',')`.  "
    },
    {
      "metadata": {
        "trusted": true
      },
      "cell_type": "code",
      "source": "# [ ] The Weather: use while loop to print city and highest monthly average temp in celsius\ncity_temp = mean_temp.readline()\nwhile city_temp:\n    city_list = city_temp.split(',')\n    print('\\'month ave: highest high\\' for',city_list[0],'is',city_list[2])\n    city_temp = mean_temp.readline()",
      "execution_count": null,
      "outputs": []
    },
    {
      "metadata": {
        "trusted": true
      },
      "cell_type": "code",
      "source": "# experimental sandbox\n# [ ] The Weather: use while loop to print city and highest monthly average temp in celsius\ncity_temp = mean_temp.readline()\nwhile city_temp:\n    city_list = city_temp.split(',')\n    for i in range(len(city_list)):\n        print(city_list[i],city_temp[i])\n        i += 1\n        city_temp = mean_temp.readline()\n",
      "execution_count": null,
      "outputs": []
    },
    {
      "metadata": {
        "collapsed": true
      },
      "cell_type": "markdown",
      "source": "# &nbsp;  \n<font size=\"6\" color=\"#B24C00\"  face=\"verdana\"> <B>Task 3</B></font>  \n\n## Random pi  guessing\nCreate random appearing numbers by reading digits of pi \n*Note: only \"appears\" random*\n\n- Download https://raw.githubusercontent.com/MicrosoftLearning/intropython/master/digits_of_pi  as pi.txt"
    },
    {
      "metadata": {
        "trusted": true
      },
      "cell_type": "code",
      "source": "# [ ] use curl to download https://raw.githubusercontent.com/MicrosoftLearning/intropython/master/digits_of_pi as pi.txt\n!curl https://raw.githubusercontent.com/MicrosoftLearning/intropython/master/digits_of_pi -o pi.txt\n",
      "execution_count": 1,
      "outputs": [
        {
          "output_type": "stream",
          "text": "  % Total    % Received % Xferd  Average Speed   Time    Time     Time  Current\n                                 Dload  Upload   Total   Spent    Left  Speed\n100   303  100   303    0     0    337      0 --:--:-- --:--:-- --:--:--   339\n",
          "name": "stdout"
        }
      ]
    },
    {
      "metadata": {},
      "cell_type": "markdown",
      "source": "#### Set up the project files and intitial values  \n1. Open pi.txt in read mode, the file has a single line of text \"3.14....\".  \n2. Get user name as input and say \"hi\".  \n3. Use the length of `name` for variable called `seed`.  \n4. Use `.seek()` with the value of `seed` to set the initial pointer location reading the file.  \n5. Create a variable `digit` and assign it the value of reading one character from the file.  \n6. Get `guess` variable value from users `input`  - \"enter a single digit guess or \"q\" to quit\".  \n7. Initialize `correct` and `wrong` counter variables to **`0`**  (zero).  "
    },
    {
      "metadata": {
        "trusted": true
      },
      "cell_type": "code",
      "source": "# [ ] Setting up the project files and initial values\npi = open('pi.txt','r') # Opening pi.txt in read mode\n\nuser_name = input('Please enter your name: ') # Getting user name as input and say \"hi\"\nprint('\\nHi,',user_name) \n\nseed = len(user_name)# Using the length of name for variable called seed\npi.seek(seed) # Using .seek() with the value of seed to set the initial pointer location reading the file\ndigit = pi.read(1) # assigning the value of reading one character from the file using .read(n)\n        \n# Initializing correct and wrong counter variables to 0\ncorrect = 0\nwrong = 0",
      "execution_count": 2,
      "outputs": [
        {
          "output_type": "stream",
          "name": "stdout",
          "text": "Please enter your name: Eyjafjallajökull\n\nHi, Eyjafjallajökull\n"
        }
      ]
    },
    {
      "metadata": {},
      "cell_type": "markdown",
      "source": "#### Create a while loop that tests that `guess` is a *digit* string\nthen in the loop:\n1. if `digit` ( read from pi file) is \"**.**\" read the next character for digit  \n2. else if `digit` is \"\\n\" increment `seed` and use `seed` to set the pointer uing .`seek()`  \n3. else see if `guess` is equal to `digit`   \n  a. if `guess` equals `digit`: print \"correct\" and increment the varible named `correct`  \n  b. if `guess` not equal `digit`: print \"incorrect\" and increment the variable named `wrong`  \n  \n**end the while loop** when user enters any non-digit(s) for `guess`, like \"q\".  \n- Print `correct` and `wrong` values within a message to the user.  \n- Close the pi file.  "
    },
    {
      "metadata": {
        "trusted": true
      },
      "cell_type": "code",
      "source": "# correct code here\n\nguess = input('Enter a single digit guess or \\'q\\' to quit: ')\n\nwhile guess.isdigit(): # use While  loop to get a user input which meets requirements\n        \n    if digit == '.':\n        #pi.seek(seed + 1)\n        digit = pi.read(1)\n    elif digit == '\\n':\n        seed += 1\n        pi.seek(seed)\n        digit = pi.read(1)\n    \n    if guess == digit:\n        print('Correct!')\n        correct += 1\n        guess = input('Enter a single digit guess or \\'q\\' to quit: ')\n        digit = pi.read(1)\n    else:\n        print('Incorrect!')\n        wrong += 1\n        guess = input('Enter a single digit guess or \\'q\\' to quit: ')\n        digit = pi.read(1)\n        \nprint('\\nNo of correct entries:',correct,'\\nNo of incorrect entries:',wrong) #final message for the user\npi.close() #close pi file",
      "execution_count": 3,
      "outputs": [
        {
          "output_type": "stream",
          "name": "stdout",
          "text": "Enter a single digit guess or 'q' to quit: 1\nIncorrect!\nEnter a single digit guess or 'q' to quit: 12\nIncorrect!\nEnter a single digit guess or 'q' to quit: 2\nIncorrect!\nEnter a single digit guess or 'q' to quit: 2\nIncorrect!\nEnter a single digit guess or 'q' to quit: 3\nIncorrect!\nEnter a single digit guess or 'q' to quit: 4\nIncorrect!\nEnter a single digit guess or 'q' to quit: 5\nIncorrect!\nEnter a single digit guess or 'q' to quit: 6\nCorrect!\nEnter a single digit guess or 'q' to quit: 5\nIncorrect!\nEnter a single digit guess or 'q' to quit: 4\nIncorrect!\nEnter a single digit guess or 'q' to quit: 3\nCorrect!\nEnter a single digit guess or 'q' to quit: 3\nIncorrect!\nEnter a single digit guess or 'q' to quit: 3\nCorrect!\nEnter a single digit guess or 'q' to quit: 3\nIncorrect!\nEnter a single digit guess or 'q' to quit: 3\nIncorrect!\nEnter a single digit guess or 'q' to quit: 3\nIncorrect!\nEnter a single digit guess or 'q' to quit: s\n\nNo of correct entries: 3 \nNo of incorrect entries: 13\n"
        }
      ]
    },
    {
      "metadata": {
        "trusted": true
      },
      "cell_type": "code",
      "source": "# experimental sandbox\n\nwhile True: # use While True loop to get a user input which meets requirements\n    if guess.isdigit(): # check if user_input is a digit\n        continue\n    elif guess.lower().startswith('q'): # check if user_input starts with 'q' to quit\n        print('Quit detected: stopping programm...')\n        break\n    else:  # loops continues until valid input is not entered\n        print('Invalid input: please enter a single digit next time!')\n        break\n        \n    if digit == '.':\n        pi.seek(seed + 1)\n        digit = pi.read(1)\n    elif digit == '\\n':\n        seed += 1\n        pi.seek(seed)\n    \n    if digit == guess:\n        print('Correct!')\n        correct += 1\n    else:\n        print('Incorrect!')\n        wrong += 1\n    ",
      "execution_count": null,
      "outputs": []
    },
    {
      "metadata": {
        "trusted": true
      },
      "cell_type": "code",
      "source": "",
      "execution_count": null,
      "outputs": []
    },
    {
      "metadata": {
        "collapsed": true
      },
      "cell_type": "markdown",
      "source": "[Terms of use](http://go.microsoft.com/fwlink/?LinkID=206977) &nbsp; [Privacy & cookies](https://go.microsoft.com/fwlink/?LinkId=521839) &nbsp; © 2017 Microsoft"
    }
  ],
  "metadata": {
    "anaconda-cloud": {},
    "kernelspec": {
      "name": "python3",
      "display_name": "Python 3",
      "language": "python"
    },
    "language_info": {
      "mimetype": "text/x-python",
      "nbconvert_exporter": "python",
      "name": "python",
      "pygments_lexer": "ipython3",
      "version": "3.5.4",
      "file_extension": ".py",
      "codemirror_mode": {
        "version": 3,
        "name": "ipython"
      }
    }
  },
  "nbformat": 4,
  "nbformat_minor": 1
}